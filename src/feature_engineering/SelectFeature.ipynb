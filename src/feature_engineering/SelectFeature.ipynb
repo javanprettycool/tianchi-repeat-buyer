{
 "cells": [
  {
   "cell_type": "code",
   "execution_count": 19,
   "metadata": {},
   "outputs": [],
   "source": [
    "import pandas as pd\n",
    "import numpy as np\n",
    "from sklearn.model_selection import GridSearchCV\n",
    "from sklearn.model_selection import train_test_split,StratifiedShuffleSplit,StratifiedKFold\n",
    "from sklearn import preprocessing\n",
    "from datetime import datetime, date\n",
    "\n",
    "from matplotlib import pyplot as plt\n",
    "import seaborn as sns\n",
    "\n",
    "import warnings\n",
    "warnings.filterwarnings('ignore')\n",
    "\n",
    "%matplotlib inline"
   ]
  },
  {
   "cell_type": "code",
   "execution_count": 20,
   "metadata": {},
   "outputs": [],
   "source": [
    "user_info = pd.read_csv('../../data/data_format1/user_info_format1.csv')\n",
    "train_data = pd.read_csv('../../data/data_format1/train_format1.csv')\n",
    "test_data = pd.read_csv('../../data/data_format1/test_format1.csv')\n",
    "\n",
    "user_feature_data = pd.read_csv('../../data/feature/user_feature_train_1.csv')\n",
    "user_feature_test_data = pd.read_csv('../../data/feature/user_feature_test_1.csv')"
   ]
  },
  {
   "cell_type": "markdown",
   "metadata": {},
   "source": [
    "#### 训练数据合并"
   ]
  },
  {
   "cell_type": "code",
   "execution_count": 5,
   "metadata": {},
   "outputs": [],
   "source": [
    "#将用户信息和特征及label合并\n",
    "user_feature_data_2 = pd.merge(user_feature_data, user_info, how='left', on=['user_id'])\n",
    "user_feature_data_2 = pd.merge(user_feature_data_2, train_data, how='left', on=['user_id', 'merchant_id'])"
   ]
  },
  {
   "cell_type": "code",
   "execution_count": 6,
   "metadata": {},
   "outputs": [],
   "source": [
    "user_feature_test_data_2 = pd.merge(user_feature_test_data, user_info, how='left', on=['user_id'])\n",
    "user_feature_test_data_2.to_csv('../../data/feature/user_feature_test_2.csv', index=False)"
   ]
  },
  {
   "cell_type": "code",
   "execution_count": 2,
   "metadata": {},
   "outputs": [],
   "source": [
    "user_feature_data_2 = pd.read_csv('../../data/feature/user_feature_train_2.csv')"
   ]
  },
  {
   "cell_type": "markdown",
   "metadata": {},
   "source": [
    "#### 测试数据合并"
   ]
  },
  {
   "cell_type": "code",
   "execution_count": 22,
   "metadata": {},
   "outputs": [],
   "source": [
    "user_feature_test_data_2 = pd.merge(user_feature_test_data, user_info, how='left', on=['user_id'])\n",
    "user_feature_test_data_2.to_csv('../../data/feature/user_feature_test_2.csv', index=False)"
   ]
  },
  {
   "cell_type": "markdown",
   "metadata": {},
   "source": [
    "#### 处理缺失值\n",
    "对于年龄和性别的缺失,想想办法填充先"
   ]
  },
  {
   "cell_type": "code",
   "execution_count": 3,
   "metadata": {},
   "outputs": [
    {
     "name": "stdout",
     "output_type": "stream",
     "text": [
      "<class 'pandas.core.frame.DataFrame'>\n",
      "RangeIndex: 260864 entries, 0 to 260863\n",
      "Data columns (total 22 columns):\n",
      "Unnamed: 0                      260864 non-null int64\n",
      "user_id                         260864 non-null int64\n",
      "merchant_id                     260864 non-null int64\n",
      "user_viewed_action_count        260864 non-null int64\n",
      "user_viewed_item_cat_num        260864 non-null int64\n",
      "user_viewed_item_brand_num      260864 non-null int64\n",
      "user_viewed_item_num            260864 non-null int64\n",
      "user_viewed_item_click          260864 non-null int64\n",
      "user_viewed_item_addcart        260864 non-null int64\n",
      "user_viewed_item_buy            260864 non-null int64\n",
      "user_viewed_item_addcat         260864 non-null int64\n",
      "user_addcart_ratio              260864 non-null float64\n",
      "user_click_ratio                260864 non-null float64\n",
      "user_buy_ratio                  260864 non-null float64\n",
      "user_addcat_ratio               260864 non-null float64\n",
      "user_buy_ratio2                 260864 non-null float64\n",
      "repeat_viewed_count             260864 non-null int64\n",
      "repeat_buyer_same_item_count    260864 non-null int64\n",
      "repeat_buyer_diff_item_count    260864 non-null int64\n",
      "age_range                       260864 non-null float64\n",
      "gender                          260864 non-null float64\n",
      "label                           260864 non-null int64\n",
      "dtypes: float64(7), int64(15)\n",
      "memory usage: 43.8 MB\n"
     ]
    }
   ],
   "source": [
    "user_feature_data_2.info()"
   ]
  },
  {
   "cell_type": "code",
   "execution_count": 7,
   "metadata": {},
   "outputs": [
    {
     "name": "stdout",
     "output_type": "stream",
     "text": [
      "user_id      95131\n",
      "age_range    92914\n",
      "gender       90664\n",
      "dtype: int64\n",
      "user_id      16862\n",
      "age_range    14664\n",
      "gender       10426\n",
      "dtype: int64\n"
     ]
    }
   ],
   "source": [
    "null_aga = user_info[user_info['age_range'].isna() | (user_info['age_range'] == 0)].count()\n",
    "null_gender = user_info[user_info['gender'].isna() | (user_info['gender'] == 2)].count()"
   ]
  },
  {
   "cell_type": "code",
   "execution_count": 21,
   "metadata": {},
   "outputs": [],
   "source": [
    "#填为0\n",
    "user_info['gender'].fillna(2, inplace=True)\n",
    "user_info['age_range'].fillna(0, inplace=True)"
   ]
  },
  {
   "cell_type": "markdown",
   "metadata": {},
   "source": [
    "#### 性别不均"
   ]
  },
  {
   "cell_type": "code",
   "execution_count": 7,
   "metadata": {},
   "outputs": [
    {
     "data": {
      "text/plain": [
       "<matplotlib.axes._subplots.AxesSubplot at 0x511a860>"
      ]
     },
     "execution_count": 7,
     "metadata": {},
     "output_type": "execute_result"
    },
    {
     "data": {
      "image/png": "[encoded data removed]",
      "text/plain": [
       "<Figure size 432x288 with 1 Axes>"
      ]
     },
     "metadata": {},
     "output_type": "display_data"
    }
   ],
   "source": [
    "sns.distplot(user_feature_data_2['gender'], kde=False)"
   ]
  },
  {
   "cell_type": "markdown",
   "metadata": {},
   "source": [
    "#### 年龄也是"
   ]
  },
  {
   "cell_type": "code",
   "execution_count": 8,
   "metadata": {},
   "outputs": [
    {
     "data": {
      "text/plain": [
       "<matplotlib.axes._subplots.AxesSubplot at 0x9c6b080>"
      ]
     },
     "execution_count": 8,
     "metadata": {},
     "output_type": "execute_result"
    },
    {
     "data": {
      "image/png": "[encoded data removed]",
      "text/plain": [
       "<Figure size 432x288 with 1 Axes>"
      ]
     },
     "metadata": {},
     "output_type": "display_data"
    }
   ],
   "source": [
    "sns.distplot(user_feature_data_2['age_range'], kde=False)"
   ]
  },
  {
   "cell_type": "markdown",
   "metadata": {},
   "source": [
    "#### 看看训练集的分布"
   ]
  },
  {
   "cell_type": "code",
   "execution_count": 17,
   "metadata": {},
   "outputs": [
    {
     "data": {
      "text/plain": [
       "<matplotlib.axes._subplots.AxesSubplot at 0xe1121d0>"
      ]
     },
     "execution_count": 17,
     "metadata": {},
     "output_type": "execute_result"
    },
    {
     "data": {
      "image/png": "[encoded data removed]",
      "text/plain": [
       "<Figure size 576x432 with 1 Axes>"
      ]
     },
     "metadata": {},
     "output_type": "display_data"
    }
   ],
   "source": [
    "label_gp = user_feature_data_2.groupby('label')['user_id'].count()\n",
    "label_gp.plot(kind='bar',title='no-repeat vs repeat')"
   ]
  },
  {
   "cell_type": "markdown",
   "metadata": {},
   "source": [
    "正负样本不均衡呀"
   ]
  },
  {
   "cell_type": "markdown",
   "metadata": {},
   "source": [
    "#### 看看性别和操作次数和重复购买的关系"
   ]
  },
  {
   "cell_type": "code",
   "execution_count": 15,
   "metadata": {},
   "outputs": [
    {
     "data": {
      "text/plain": [
       "<matplotlib.axes._subplots.AxesSubplot at 0xd766dd8>"
      ]
     },
     "execution_count": 15,
     "metadata": {},
     "output_type": "execute_result"
    },
    {
     "data": {
      "image/png": "[encoded data removed]",
      "text/plain": [
       "<Figure size 576x432 with 1 Axes>"
      ]
     },
     "metadata": {},
     "output_type": "display_data"
    }
   ],
   "source": [
    "plt.style.use({'figure.figsize':(8, 6)})\n",
    "sns.barplot(x=\"gender\", y=\"user_viewed_action_count\", hue=\"label\", data=user_feature_data_2, ci=None)"
   ]
  },
  {
   "cell_type": "markdown",
   "metadata": {},
   "source": [
    "可以看出操作次数多的,重复购买多,这个特征还挺明显的,感觉性别都很均匀"
   ]
  },
  {
   "cell_type": "markdown",
   "metadata": {},
   "source": [
    "#### 看看年龄和操作次数和重复购买的关系"
   ]
  },
  {
   "cell_type": "code",
   "execution_count": 20,
   "metadata": {},
   "outputs": [
    {
     "data": {
      "text/plain": [
       "<matplotlib.axes._subplots.AxesSubplot at 0xe15feb8>"
      ]
     },
     "execution_count": 20,
     "metadata": {},
     "output_type": "execute_result"
    },
    {
     "data": {
      "image/png": "[encoded data removed]",
      "text/plain": [
       "<Figure size 576x432 with 1 Axes>"
      ]
     },
     "metadata": {},
     "output_type": "display_data"
    }
   ],
   "source": [
    "plt.style.use({'figure.figsize':(8, 6)})\n",
    "sns.barplot(x=\"age_range\", y=\"user_viewed_action_count\", hue=\"label\", data=user_feature_data_2, ci=None)"
   ]
  },
  {
   "cell_type": "markdown",
   "metadata": {},
   "source": [
    "感觉都比较平均,18岁的没有买过"
   ]
  },
  {
   "cell_type": "markdown",
   "metadata": {},
   "source": [
    "#### 看各个缺失值占比"
   ]
  },
  {
   "cell_type": "code",
   "execution_count": 7,
   "metadata": {},
   "outputs": [
    {
     "data": {
      "text/plain": [
       "user_id                         0.061151\n",
       "merchant_id                     0.061151\n",
       "user_viewed_action_count        0.061151\n",
       "user_viewed_item_cat_num        0.061151\n",
       "user_viewed_item_brand_num      0.061151\n",
       "user_viewed_item_num            0.061151\n",
       "user_viewed_item_click          0.061151\n",
       "user_viewed_item_addcart        0.061151\n",
       "user_viewed_item_buy            0.061151\n",
       "user_viewed_item_addcat         0.061151\n",
       "user_addcart_ratio              0.061151\n",
       "user_click_ratio                0.061151\n",
       "user_buy_ratio                  0.061151\n",
       "user_addcat_ratio               0.061151\n",
       "user_buy_ratio2                 0.061151\n",
       "repeat_viewed_count             0.061151\n",
       "repeat_buyer_same_item_count    0.061151\n",
       "repeat_buyer_diff_item_count    0.061151\n",
       "age_range                       0.061151\n",
       "gender                          0.061151\n",
       "label                           0.061151\n",
       "dtype: float64"
      ]
     },
     "execution_count": 7,
     "metadata": {},
     "output_type": "execute_result"
    }
   ],
   "source": [
    "train_data = user_feature_data_2\n",
    "\n",
    "train_data[(train_data['gender'] == 2) & (train_data['label']==1)].count() / train_data[(train_data['gender'] == 2)].count()\n",
    "\n",
    "train_data[train_data['label']==1].count() / train_data.count()\n",
    "\n",
    "train_data[(train_data['age_range'] == 0) & (train_data['label']==1)].count() / train_data[(train_data['age_range'] == 0)].count()\n",
    "\n",
    "train_data[((train_data['gender'] == 2) | (train_data['age_range'] == 0)) & (train_data['label']==1)].count() / train_data.count()\n",
    "\n",
    "train_data[(train_data['age_range'] == 0) & (train_data['label']==1)].count() / train_data.count()\n",
    "\n",
    "train_data[train_data['label']==1].count() / train_data.count()"
   ]
  },
  {
   "cell_type": "code",
   "execution_count": 8,
   "metadata": {},
   "outputs": [
    {
     "data": {
      "text/plain": [
       "user_id                         0.20825\n",
       "merchant_id                     0.20825\n",
       "user_viewed_action_count        0.20825\n",
       "user_viewed_item_cat_num        0.20825\n",
       "user_viewed_item_brand_num      0.20825\n",
       "user_viewed_item_num            0.20825\n",
       "user_viewed_item_click          0.20825\n",
       "user_viewed_item_addcart        0.20825\n",
       "user_viewed_item_buy            0.20825\n",
       "user_viewed_item_addcat         0.20825\n",
       "user_addcart_ratio              0.20825\n",
       "user_click_ratio                0.20825\n",
       "user_buy_ratio                  0.20825\n",
       "user_addcat_ratio               0.20825\n",
       "user_buy_ratio2                 0.20825\n",
       "repeat_viewed_count             0.20825\n",
       "repeat_buyer_same_item_count    0.20825\n",
       "repeat_buyer_diff_item_count    0.20825\n",
       "age_range                       0.20825\n",
       "gender                          0.20825\n",
       "label                           0.20825\n",
       "dtype: float64"
      ]
     },
     "execution_count": 8,
     "metadata": {},
     "output_type": "execute_result"
    }
   ],
   "source": [
    "train_data[(train_data['age_range'] == 0) & (train_data['label']==1)].count() / train_data[(train_data['label']==1)].count()"
   ]
  },
  {
   "cell_type": "markdown",
   "metadata": {},
   "source": [
    "如果直接去掉年龄和性别缺省值,感觉差别很大,会干掉正样本20%"
   ]
  }
 ],
 "metadata": {
  "kernelspec": {
   "display_name": "Python 3",
   "language": "python",
   "name": "python3"
  },
  "language_info": {
   "codemirror_mode": {
    "name": "ipython",
    "version": 3
   },
   "file_extension": ".py",
   "mimetype": "text/x-python",
   "name": "python",
   "nbconvert_exporter": "python",
   "pygments_lexer": "ipython3",
   "version": "3.6.5"
  }
 },
 "nbformat": 4,
 "nbformat_minor": 2
}
