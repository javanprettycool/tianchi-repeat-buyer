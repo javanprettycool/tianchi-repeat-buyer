{
 "cells": [
  {
   "cell_type": "code",
   "execution_count": 1,
   "metadata": {},
   "outputs": [
    {
     "name": "stderr",
     "output_type": "stream",
     "text": [
      "C:\\Users\\zzf\\Anaconda3\\lib\\site-packages\\sklearn\\cross_validation.py:41: DeprecationWarning: This module was deprecated in version 0.18 in favor of the model_selection module into which all the refactored classes and functions are moved. Also note that the interface of the new CV iterators are different from that of this module. This module will be removed in 0.20.\n",
      "  \"This module will be removed in 0.20.\", DeprecationWarning)\n",
      "C:\\Users\\zzf\\Anaconda3\\lib\\site-packages\\sklearn\\grid_search.py:42: DeprecationWarning: This module was deprecated in version 0.18 in favor of the model_selection module into which all the refactored classes and functions are moved. This module will be removed in 0.20.\n",
      "  DeprecationWarning)\n"
     ]
    }
   ],
   "source": [
    "import pandas as pd\n",
    "import numpy as np\n",
    "from sklearn.grid_search import GridSearchCV\n",
    "from sklearn.model_selection import train_test_split,StratifiedShuffleSplit,StratifiedKFold\n",
    "from sklearn import preprocessing\n",
    "from sklearn.metrics import classification_report\n",
    "from sklearn.externals import joblib\n",
    "from datetime import datetime, date"
   ]
  },
  {
   "cell_type": "code",
   "execution_count": null,
   "metadata": {},
   "outputs": [],
   "source": [
    "user_info = pd.read_csv('../data/data_format1/user_info_format1.csv')\n",
    "user_log = pd.read_csv('../data/data_format1/user_log_format1.csv')\n",
    "\n",
    "user_info.head()"
   ]
  },
  {
   "cell_type": "code",
   "execution_count": 3,
   "metadata": {},
   "outputs": [],
   "source": [
    "train_data = pd.read_csv('../data/data_format1/train_format1.csv')\n",
    "#test_data = pd.read_csv('../data/data_format1/test_format1.csv')"
   ]
  },
  {
   "cell_type": "code",
   "execution_count": 36,
   "metadata": {},
   "outputs": [
    {
     "data": {
      "text/plain": [
       "(424170,)"
      ]
     },
     "execution_count": 36,
     "metadata": {},
     "output_type": "execute_result"
    }
   ],
   "source": [
    "user_info['user_id'].unique().shape"
   ]
  },
  {
   "cell_type": "code",
   "execution_count": 40,
   "metadata": {},
   "outputs": [
    {
     "data": {
      "text/plain": [
       "user_id      16862\n",
       "age_range    14664\n",
       "gender       10426\n",
       "dtype: int64"
      ]
     },
     "execution_count": 40,
     "metadata": {},
     "output_type": "execute_result"
    }
   ],
   "source": [
    "#缺省性别的用户\n",
    "user_info[user_info['gender'].isna() | (user_info['gender'] == 2)].count()"
   ]
  },
  {
   "cell_type": "code",
   "execution_count": 44,
   "metadata": {},
   "outputs": [
    {
     "data": {
      "text/plain": [
       "user_id      95131\n",
       "age_range    92914\n",
       "gender       90664\n",
       "dtype: int64"
      ]
     },
     "execution_count": 44,
     "metadata": {},
     "output_type": "execute_result"
    }
   ],
   "source": [
    "#缺省年龄的用户\n",
    "user_info[user_info['age_range'].isna() | (user_info['age_range'] == 0)].count()"
   ]
  },
  {
   "cell_type": "code",
   "execution_count": 46,
   "metadata": {},
   "outputs": [
    {
     "name": "stdout",
     "output_type": "stream",
     "text": [
      "<class 'pandas.core.frame.DataFrame'>\n",
      "RangeIndex: 54925330 entries, 0 to 54925329\n",
      "Data columns (total 7 columns):\n",
      "user_id        int64\n",
      "item_id        int64\n",
      "cat_id         int64\n",
      "seller_id      int64\n",
      "brand_id       float64\n",
      "time_stamp     int64\n",
      "action_type    int64\n",
      "dtypes: float64(1), int64(6)\n",
      "memory usage: 2.9 GB\n"
     ]
    }
   ],
   "source": [
    "user_log.info()"
   ]
  },
  {
   "cell_type": "code",
   "execution_count": 49,
   "metadata": {},
   "outputs": [
    {
     "data": {
      "text/plain": [
       "(424170,)"
      ]
     },
     "execution_count": 49,
     "metadata": {},
     "output_type": "execute_result"
    }
   ],
   "source": [
    "#用户行为覆盖所有的用户id\n",
    "user_log['user_id'].unique().shape"
   ]
  },
  {
   "cell_type": "code",
   "execution_count": 51,
   "metadata": {},
   "outputs": [
    {
     "data": {
      "text/plain": [
       "(4995,)"
      ]
     },
     "execution_count": 51,
     "metadata": {},
     "output_type": "execute_result"
    }
   ],
   "source": [
    "user_log['seller_id'].unique().shape"
   ]
  },
  {
   "cell_type": "code",
   "execution_count": 12,
   "metadata": {},
   "outputs": [
    {
     "data": {
      "text/plain": [
       "(1993,)"
      ]
     },
     "execution_count": 12,
     "metadata": {},
     "output_type": "execute_result"
    }
   ],
   "source": [
    "train_data['merchant_id'].unique().shape"
   ]
  },
  {
   "cell_type": "code",
   "execution_count": 57,
   "metadata": {},
   "outputs": [
    {
     "data": {
      "text/plain": [
       "1993"
      ]
     },
     "execution_count": 57,
     "metadata": {},
     "output_type": "execute_result"
    }
   ],
   "source": [
    "#训练集seller_id也是都在用户相关的seller中\n",
    "len(list(set(train_data['merchant_id'].unique()).intersection(set(user_log['seller_id'].unique()))))"
   ]
  },
  {
   "cell_type": "code",
   "execution_count": 13,
   "metadata": {},
   "outputs": [
    {
     "name": "stdout",
     "output_type": "stream",
     "text": [
      "<class 'pandas.core.frame.DataFrame'>\n",
      "RangeIndex: 260864 entries, 0 to 260863\n",
      "Data columns (total 3 columns):\n",
      "user_id        260864 non-null int64\n",
      "merchant_id    260864 non-null int64\n",
      "label          260864 non-null int64\n",
      "dtypes: int64(3)\n",
      "memory usage: 6.0 MB\n"
     ]
    }
   ],
   "source": [
    "train_data.info()"
   ]
  },
  {
   "cell_type": "code",
   "execution_count": null,
   "metadata": {},
   "outputs": [],
   "source": [
    "def extract_features(user_id):\n",
    "    ret_user_data = pd.DataFrame()\n",
    "    \n",
    "    user_detail = user_log.loc[user_log.user_id == user_id, :]\n",
    "    \n",
    "    seller_ids = user_detail.seller_id.unique()\n",
    "#     cat_ids = user_detail.cat_id\n",
    "#     item_ids = user_detail.item_id\n",
    "#     brand_ids = user_detail.brand_id\n",
    "\n",
    "    for seller_id in seller_ids:\n",
    "        user_seller_data = pd.DataFrame(data={'user_id':[user_id], 'seller_id':[seller_id]})\n",
    "        \n",
    "        user_act_seller = user_detail[user_detail['seller_id'] == seller_id]\n",
    "        \n",
    "        #卖家被浏览的物品数\n",
    "        user_seller_data['seller_viewed_item_num'] = len(user_act_seller)\n",
    "        \n",
    "        #用户各种操作\n",
    "        user_seller_data['seller_viewed_item_click'] = len(user_act_seller[user_act_seller['action_type'] == 0])\n",
    "        user_seller_data['seller_viewed_item_addcart'] = len(user_act_seller[user_act_seller['action_type'] == 1])\n",
    "        user_seller_data['seller_viewed_item_buy'] = len(user_act_seller[user_act_seller['action_type'] == 2])\n",
    "        user_seller_data['seller_viewed_item_addcat'] = len(user_act_seller[user_act_seller['action_type'] == 3])\n",
    "        \n",
    "        ret_user_data = pd.concat([ret_user_data, user_seller_data])\n",
    "    \n",
    "    return ret_user_data\n",
    "\n",
    "\n",
    "#抽取特征\n",
    "user_feature = pd.DataFrame()\n",
    "start_time = datetime.now()\n",
    "for i, user_id in enumerate(train_data['user_id'].values):\n",
    "    try:\n",
    "        user_feature = pd.concat([user_feature, extract_features(user_id)])\n",
    "        if i%1000 == 0:\n",
    "            print(user_feature.head())\n",
    "            raise RuntimeError('stop')\n",
    "            print(datetime.now()-start_time,i)\n",
    "    except:\n",
    "        print('====='*10)\n",
    "        print('Error at id', user_id)\n",
    "    \n",
    "\n",
    "#将所有seller_id one-hot\n",
    "seller_unique = user_feature['seller_id'].unique()\n",
    "for seller_id in seller_unique:\n",
    "    user_feature['seller_'+str(seller_id)] = 1 * (user_feature['seller_id'] == seller_id)\n",
    "    \n",
    "user_feature.to_csv('user_feature.csv', index=False)\n",
    "user_feature.head()"
   ]
  },
  {
   "cell_type": "code",
   "execution_count": 55,
   "metadata": {},
   "outputs": [
    {
     "data": {
      "text/plain": [
       "291"
      ]
     },
     "execution_count": 55,
     "metadata": {},
     "output_type": "execute_result"
    }
   ],
   "source": [
    "a = user_log.loc[user_log.user_id == 100, :]\n",
    "len(a[a['action_type'] == 0])"
   ]
  },
  {
   "cell_type": "code",
   "execution_count": 44,
   "metadata": {},
   "outputs": [
    {
     "data": {
      "text/html": [
       "<div>\n",
       "<style scoped>\n",
       "    .dataframe tbody tr th:only-of-type {\n",
       "        vertical-align: middle;\n",
       "    }\n",
       "\n",
       "    .dataframe tbody tr th {\n",
       "        vertical-align: top;\n",
       "    }\n",
       "\n",
       "    .dataframe thead th {\n",
       "        text-align: right;\n",
       "    }\n",
       "</style>\n",
       "<table border=\"1\" class=\"dataframe\">\n",
       "  <thead>\n",
       "    <tr style=\"text-align: right;\">\n",
       "      <th></th>\n",
       "      <th>user_id</th>\n",
       "    </tr>\n",
       "  </thead>\n",
       "  <tbody>\n",
       "    <tr>\n",
       "      <th>0</th>\n",
       "      <td>1</td>\n",
       "    </tr>\n",
       "  </tbody>\n",
       "</table>\n",
       "</div>"
      ],
      "text/plain": [
       "   user_id\n",
       "0        1"
      ]
     },
     "execution_count": 44,
     "metadata": {},
     "output_type": "execute_result"
    }
   ],
   "source": [
    "ret_user_data = pd.DataFrame(data={'user_id':[1]})\n",
    "ret_user_data"
   ]
  },
  {
   "cell_type": "code",
   "execution_count": 62,
   "metadata": {},
   "outputs": [
    {
     "name": "stdout",
     "output_type": "stream",
     "text": [
      "2018-07-23 18:00:03.141974\n"
     ]
    }
   ],
   "source": [
    "print(datetime.now())"
   ]
  }
 ],
 "metadata": {
  "kernelspec": {
   "display_name": "Python 3",
   "language": "python",
   "name": "python3"
  },
  "language_info": {
   "codemirror_mode": {
    "name": "ipython",
    "version": 3
   },
   "file_extension": ".py",
   "mimetype": "text/x-python",
   "name": "python",
   "nbconvert_exporter": "python",
   "pygments_lexer": "ipython3",
   "version": "3.6.5"
  }
 },
 "nbformat": 4,
 "nbformat_minor": 2
}
