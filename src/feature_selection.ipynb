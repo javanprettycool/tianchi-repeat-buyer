{
 "cells": [
  {
   "cell_type": "code",
   "execution_count": 1,
   "metadata": {},
   "outputs": [],
   "source": [
    "import pandas as pd\n",
    "import numpy as np\n",
    "from sklearn.model_selection import GridSearchCV\n",
    "from sklearn.model_selection import train_test_split,StratifiedShuffleSplit,StratifiedKFold\n",
    "from sklearn import preprocessing\n",
    "from sklearn.metrics import classification_report\n",
    "from sklearn.externals import joblib\n",
    "from datetime import datetime, date\n",
    "\n",
    "import matplotlib as mpl\n",
    "from matplotlib import pyplot as plt\n",
    "import seaborn as sns\n",
    "\n",
    "%matplotlib inline"
   ]
  },
  {
   "cell_type": "code",
   "execution_count": 2,
   "metadata": {},
   "outputs": [
    {
     "data": {
      "text/html": [
       "<div>\n",
       "<style scoped>\n",
       "    .dataframe tbody tr th:only-of-type {\n",
       "        vertical-align: middle;\n",
       "    }\n",
       "\n",
       "    .dataframe tbody tr th {\n",
       "        vertical-align: top;\n",
       "    }\n",
       "\n",
       "    .dataframe thead th {\n",
       "        text-align: right;\n",
       "    }\n",
       "</style>\n",
       "<table border=\"1\" class=\"dataframe\">\n",
       "  <thead>\n",
       "    <tr style=\"text-align: right;\">\n",
       "      <th></th>\n",
       "      <th>user_id</th>\n",
       "      <th>age_range</th>\n",
       "      <th>gender</th>\n",
       "    </tr>\n",
       "  </thead>\n",
       "  <tbody>\n",
       "    <tr>\n",
       "      <th>0</th>\n",
       "      <td>376517</td>\n",
       "      <td>6.0</td>\n",
       "      <td>1.0</td>\n",
       "    </tr>\n",
       "    <tr>\n",
       "      <th>1</th>\n",
       "      <td>234512</td>\n",
       "      <td>5.0</td>\n",
       "      <td>0.0</td>\n",
       "    </tr>\n",
       "    <tr>\n",
       "      <th>2</th>\n",
       "      <td>344532</td>\n",
       "      <td>5.0</td>\n",
       "      <td>0.0</td>\n",
       "    </tr>\n",
       "    <tr>\n",
       "      <th>3</th>\n",
       "      <td>186135</td>\n",
       "      <td>5.0</td>\n",
       "      <td>0.0</td>\n",
       "    </tr>\n",
       "    <tr>\n",
       "      <th>4</th>\n",
       "      <td>30230</td>\n",
       "      <td>5.0</td>\n",
       "      <td>0.0</td>\n",
       "    </tr>\n",
       "  </tbody>\n",
       "</table>\n",
       "</div>"
      ],
      "text/plain": [
       "   user_id  age_range  gender\n",
       "0   376517        6.0     1.0\n",
       "1   234512        5.0     0.0\n",
       "2   344532        5.0     0.0\n",
       "3   186135        5.0     0.0\n",
       "4    30230        5.0     0.0"
      ]
     },
     "execution_count": 2,
     "metadata": {},
     "output_type": "execute_result"
    }
   ],
   "source": [
    "user_info = pd.read_csv('../data/data_format1/user_info_format1.csv')\n",
    "user_log = pd.read_csv('../data/data_format1/user_log_format1.csv')\n",
    "\n",
    "user_info.head()"
   ]
  },
  {
   "cell_type": "code",
   "execution_count": 3,
   "metadata": {},
   "outputs": [],
   "source": [
    "train_data = pd.read_csv('../data/data_format1/train_format1.csv')\n",
    "test_data = pd.read_csv('../data/data_format1/test_format1.csv')"
   ]
  },
  {
   "cell_type": "markdown",
   "metadata": {},
   "source": [
    "**观察下是数据**"
   ]
  },
  {
   "cell_type": "code",
   "execution_count": 36,
   "metadata": {},
   "outputs": [
    {
     "data": {
      "text/plain": [
       "(424170,)"
      ]
     },
     "execution_count": 36,
     "metadata": {},
     "output_type": "execute_result"
    }
   ],
   "source": [
    "user_info['user_id'].unique().shape"
   ]
  },
  {
   "cell_type": "code",
   "execution_count": 40,
   "metadata": {},
   "outputs": [
    {
     "data": {
      "text/plain": [
       "user_id      16862\n",
       "age_range    14664\n",
       "gender       10426\n",
       "dtype: int64"
      ]
     },
     "execution_count": 40,
     "metadata": {},
     "output_type": "execute_result"
    }
   ],
   "source": [
    "#缺省性别的用户\n",
    "user_info[user_info['gender'].isna() | (user_info['gender'] == 2)].count()"
   ]
  },
  {
   "cell_type": "code",
   "execution_count": 44,
   "metadata": {},
   "outputs": [
    {
     "data": {
      "text/plain": [
       "user_id      95131\n",
       "age_range    92914\n",
       "gender       90664\n",
       "dtype: int64"
      ]
     },
     "execution_count": 44,
     "metadata": {},
     "output_type": "execute_result"
    }
   ],
   "source": [
    "#缺省年龄的用户\n",
    "user_info[user_info['age_range'].isna() | (user_info['age_range'] == 0)].count()"
   ]
  },
  {
   "cell_type": "code",
   "execution_count": 46,
   "metadata": {},
   "outputs": [
    {
     "name": "stdout",
     "output_type": "stream",
     "text": [
      "<class 'pandas.core.frame.DataFrame'>\n",
      "RangeIndex: 54925330 entries, 0 to 54925329\n",
      "Data columns (total 7 columns):\n",
      "user_id        int64\n",
      "item_id        int64\n",
      "cat_id         int64\n",
      "seller_id      int64\n",
      "brand_id       float64\n",
      "time_stamp     int64\n",
      "action_type    int64\n",
      "dtypes: float64(1), int64(6)\n",
      "memory usage: 2.9 GB\n"
     ]
    }
   ],
   "source": [
    "user_log.info()"
   ]
  },
  {
   "cell_type": "code",
   "execution_count": 49,
   "metadata": {},
   "outputs": [
    {
     "data": {
      "text/plain": [
       "(424170,)"
      ]
     },
     "execution_count": 49,
     "metadata": {},
     "output_type": "execute_result"
    }
   ],
   "source": [
    "#用户行为覆盖所有的用户id\n",
    "user_log['user_id'].unique().shape"
   ]
  },
  {
   "cell_type": "code",
   "execution_count": 51,
   "metadata": {},
   "outputs": [
    {
     "data": {
      "text/plain": [
       "(4995,)"
      ]
     },
     "execution_count": 51,
     "metadata": {},
     "output_type": "execute_result"
    }
   ],
   "source": [
    "user_log['seller_id'].unique().shape"
   ]
  },
  {
   "cell_type": "code",
   "execution_count": 12,
   "metadata": {},
   "outputs": [
    {
     "data": {
      "text/plain": [
       "(1993,)"
      ]
     },
     "execution_count": 12,
     "metadata": {},
     "output_type": "execute_result"
    }
   ],
   "source": [
    "train_data['merchant_id'].unique().shape"
   ]
  },
  {
   "cell_type": "code",
   "execution_count": 57,
   "metadata": {},
   "outputs": [
    {
     "data": {
      "text/plain": [
       "1993"
      ]
     },
     "execution_count": 57,
     "metadata": {},
     "output_type": "execute_result"
    }
   ],
   "source": [
    "#训练集seller_id也是都在用户相关的seller中\n",
    "len(list(set(train_data['merchant_id'].unique()).intersection(set(user_log['seller_id'].unique()))))"
   ]
  },
  {
   "cell_type": "markdown",
   "metadata": {},
   "source": [
    "**处理下缺失值**  \n",
    "暂时不知怎么处理,年龄缺失挺多的,不知道怎么填充,暂时把性别处理一下"
   ]
  },
  {
   "cell_type": "code",
   "execution_count": 4,
   "metadata": {},
   "outputs": [],
   "source": [
    "user_info[user_info['age_range'].isna() | (user_info['age_range'] == 0)].count()\n",
    "\n",
    "#填为0\n",
    "user_info['gender'].fillna(2, inplace=True)\n",
    "user_info['age_range'].fillna(0, inplace=True)"
   ]
  },
  {
   "cell_type": "code",
   "execution_count": 13,
   "metadata": {},
   "outputs": [
    {
     "name": "stdout",
     "output_type": "stream",
     "text": [
      "<class 'pandas.core.frame.DataFrame'>\n",
      "RangeIndex: 260864 entries, 0 to 260863\n",
      "Data columns (total 3 columns):\n",
      "user_id        260864 non-null int64\n",
      "merchant_id    260864 non-null int64\n",
      "label          260864 non-null int64\n",
      "dtypes: int64(3)\n",
      "memory usage: 6.0 MB\n"
     ]
    }
   ],
   "source": [
    "train_data.info()"
   ]
  },
  {
   "cell_type": "markdown",
   "metadata": {},
   "source": [
    "**观察和统计数据**"
   ]
  },
  {
   "cell_type": "code",
   "execution_count": 5,
   "metadata": {},
   "outputs": [
    {
     "data": {
      "text/plain": [
       "<matplotlib.axes._subplots.AxesSubplot at 0xc86d748>"
      ]
     },
     "execution_count": 5,
     "metadata": {},
     "output_type": "execute_result"
    },
    {
     "data": {
      "image/png": "[encoded data removed]",
      "text/plain": [
       "<Figure size 432x288 with 1 Axes>"
      ]
     },
     "metadata": {},
     "output_type": "display_data"
    }
   ],
   "source": [
    "label_gp = train_data.groupby('label')['user_id'].count()\n",
    "label_gp.plot(kind='bar',title='no-repeat vs repeat')"
   ]
  },
  {
   "cell_type": "markdown",
   "metadata": {},
   "source": [
    "重复购买和不购买的,非常不均衡噢"
   ]
  },
  {
   "cell_type": "code",
   "execution_count": 8,
   "metadata": {},
   "outputs": [
    {
     "data": {
      "text/plain": [
       "63"
      ]
     },
     "execution_count": 8,
     "metadata": {},
     "output_type": "execute_result"
    }
   ],
   "source": [
    "user_log.groupby('user_id').size()"
   ]
  },
  {
   "cell_type": "markdown",
   "metadata": {},
   "source": [
    "**合并训练集和测试集,方便抽取特征**"
   ]
  },
  {
   "cell_type": "code",
   "execution_count": 5,
   "metadata": {},
   "outputs": [
    {
     "data": {
      "text/html": [
       "<div>\n",
       "<style scoped>\n",
       "    .dataframe tbody tr th:only-of-type {\n",
       "        vertical-align: middle;\n",
       "    }\n",
       "\n",
       "    .dataframe tbody tr th {\n",
       "        vertical-align: top;\n",
       "    }\n",
       "\n",
       "    .dataframe thead th {\n",
       "        text-align: right;\n",
       "    }\n",
       "</style>\n",
       "<table border=\"1\" class=\"dataframe\">\n",
       "  <thead>\n",
       "    <tr style=\"text-align: right;\">\n",
       "      <th></th>\n",
       "      <th>label</th>\n",
       "      <th>merchant_id</th>\n",
       "      <th>source</th>\n",
       "      <th>user_id</th>\n",
       "      <th>age_range</th>\n",
       "      <th>gender</th>\n",
       "    </tr>\n",
       "  </thead>\n",
       "  <tbody>\n",
       "    <tr>\n",
       "      <th>0</th>\n",
       "      <td>0.0</td>\n",
       "      <td>3906</td>\n",
       "      <td>train</td>\n",
       "      <td>34176</td>\n",
       "      <td>6.0</td>\n",
       "      <td>0.0</td>\n",
       "    </tr>\n",
       "    <tr>\n",
       "      <th>1</th>\n",
       "      <td>0.0</td>\n",
       "      <td>121</td>\n",
       "      <td>train</td>\n",
       "      <td>34176</td>\n",
       "      <td>6.0</td>\n",
       "      <td>0.0</td>\n",
       "    </tr>\n",
       "    <tr>\n",
       "      <th>2</th>\n",
       "      <td>1.0</td>\n",
       "      <td>4356</td>\n",
       "      <td>train</td>\n",
       "      <td>34176</td>\n",
       "      <td>6.0</td>\n",
       "      <td>0.0</td>\n",
       "    </tr>\n",
       "    <tr>\n",
       "      <th>3</th>\n",
       "      <td>0.0</td>\n",
       "      <td>2217</td>\n",
       "      <td>train</td>\n",
       "      <td>34176</td>\n",
       "      <td>6.0</td>\n",
       "      <td>0.0</td>\n",
       "    </tr>\n",
       "    <tr>\n",
       "      <th>4</th>\n",
       "      <td>0.0</td>\n",
       "      <td>4818</td>\n",
       "      <td>train</td>\n",
       "      <td>230784</td>\n",
       "      <td>0.0</td>\n",
       "      <td>0.0</td>\n",
       "    </tr>\n",
       "  </tbody>\n",
       "</table>\n",
       "</div>"
      ],
      "text/plain": [
       "   label  merchant_id source  user_id  age_range  gender\n",
       "0    0.0         3906  train    34176        6.0     0.0\n",
       "1    0.0          121  train    34176        6.0     0.0\n",
       "2    1.0         4356  train    34176        6.0     0.0\n",
       "3    0.0         2217  train    34176        6.0     0.0\n",
       "4    0.0         4818  train   230784        0.0     0.0"
      ]
     },
     "execution_count": 5,
     "metadata": {},
     "output_type": "execute_result"
    }
   ],
   "source": [
    "test_data['source'] = 'test'\n",
    "train_data['source'] = 'train'\n",
    "\n",
    "commit_data = test_data.drop(['prob'], axis=1)\n",
    "\n",
    "data_combine = pd.concat([train_data,commit_data], sort=True)\n",
    "\n",
    "data_combine = pd.merge(data_combine, user_info, how='left', on=['user_id'])\n",
    "data_combine.head()"
   ]
  },
  {
   "cell_type": "code",
   "execution_count": 110,
   "metadata": {},
   "outputs": [
    {
     "name": "stdout",
     "output_type": "stream",
     "text": [
      "<class 'pandas.core.frame.DataFrame'>\n",
      "Int64Index: 522341 entries, 0 to 522340\n",
      "Data columns (total 6 columns):\n",
      "label          260864 non-null float64\n",
      "merchant_id    522341 non-null int64\n",
      "source         522341 non-null object\n",
      "user_id        522341 non-null int64\n",
      "age_range      522341 non-null float64\n",
      "gender         522341 non-null float64\n",
      "dtypes: float64(3), int64(2), object(1)\n",
      "memory usage: 27.9+ MB\n"
     ]
    }
   ],
   "source": [
    "data_combine.info()"
   ]
  },
  {
   "cell_type": "markdown",
   "metadata": {},
   "source": [
    "**抽取特征,添加一些新特征**"
   ]
  },
  {
   "cell_type": "code",
   "execution_count": null,
   "metadata": {},
   "outputs": [
    {
     "name": "stdout",
     "output_type": "stream",
     "text": [
      "0:00:00.299017 0\n",
      "0:02:29.623558 1000\n"
     ]
    }
   ],
   "source": [
    "\n",
    "def extract_features(user_id, seller_id):\n",
    "    ret_user_data = pd.DataFrame()\n",
    "\n",
    "    user_detail = user_log.loc[user_log.user_id == user_id, :]\n",
    "\n",
    "    user_seller_data = {'user_id':[user_id], 'seller_id':[seller_id]}\n",
    "\n",
    "    user_act_seller = user_detail[user_detail['seller_id'] == seller_id]\n",
    "    \n",
    "    view_action_count = len(user_act_seller)\n",
    "\n",
    "    #卖家被浏览的次数\n",
    "    user_seller_data['user_viewed_action_count'] = [view_action_count]\n",
    "\n",
    "    #浏览物品种类数\n",
    "    user_seller_data['user_viewed_item_cat_num'] = [len(user_detail['cat_id'].unique())]\n",
    "\n",
    "    #浏览品牌种类数\n",
    "    user_seller_data['user_viewed_item_brand_num'] = [len(user_detail['brand_id'].unique())]\n",
    "\n",
    "    #用户各种操作\n",
    "    action_count = dict(user_act_seller['action_type'].value_counts())\n",
    "    user_seller_data['user_viewed_item_click'] = [action_count[0] if 0 in action_count else 0]\n",
    "    user_seller_data['user_viewed_item_addcart'] = [action_count[1] if 1 in action_count else 0]\n",
    "    user_seller_data['user_viewed_item_buy'] = [action_count[2] if 2 in action_count else 0]\n",
    "    user_seller_data['user_viewed_item_addcat'] = [action_count[3] if 3 in action_count else 0]\n",
    "    \n",
    "    #加入购物车几率\n",
    "    user_seller_data['user_addcart_ratio'] = [user_seller_data['user_viewed_item_addcart'][0] / view_action_count]\n",
    "    \n",
    "    #点击率\n",
    "    user_seller_data['user_click_ratio'] = [user_seller_data['user_viewed_item_click'][0] / view_action_count]\n",
    "    \n",
    "    #购买率\n",
    "    user_seller_data['user_buy_ratio'] = [user_seller_data['user_viewed_item_buy'][0] / view_action_count]\n",
    "    \n",
    "    #收藏率\n",
    "    user_seller_data['user_addcat_ratio'] = [user_seller_data['user_viewed_item_addcat'][0] / view_action_count]\n",
    "    \n",
    "    #同个商品不同时间浏览次数大于1\n",
    "    repeat_viewed_count = user_detail.groupby('item_id').apply(lambda x: len(x['time_stamp'].value_counts())>1).sum()\n",
    "    user_seller_data['repeat_viewed_count'] = [repeat_viewed_count]\n",
    "    \n",
    "    #...再加一些统计特征\n",
    "\n",
    "    #前面用[]形式,再实例化df,这样比直接给df赋值要快\n",
    "    ret_user_data = pd.DataFrame(data=user_seller_data)\n",
    "    \n",
    "    return ret_user_data\n",
    "\n",
    "\n",
    "#extract_features(100, 1)\n",
    "\n",
    "\n",
    "#抽取特征\n",
    "user_feature = pd.DataFrame()\n",
    "start_time = datetime.now()\n",
    "\n",
    "for i, item in enumerate(data_combine.loc[:,('user_id', 'merchant_id')].values):\n",
    "    user_id = item[0]\n",
    "    seller_id = item[1]\n",
    "    tmp_list = []\n",
    "    try:\n",
    "        tmp_list.append(extract_features(user_id, seller_id))\n",
    "        if i%1000 == 0:\n",
    "            user_feature = pd.concat(tmp_list, ignore_index=True)\n",
    "            tmp_list = []\n",
    "            print(datetime.now()-start_time,i)\n",
    "    except:\n",
    "        print('====='*10)\n",
    "        print('Error at id', user_id)\n",
    "\n",
    "user_feature.to_csv('user_feature_1.csv', index=False)\n",
    "\n",
    "#将所有seller_id one-hot\n",
    "seller_unique = user_feature['seller_id'].unique()\n",
    "for seller_id in seller_unique:\n",
    "    user_feature['seller_'+str(seller_id)] = 1 * (user_feature['seller_id'] == seller_id)\n",
    "    \n",
    "user_feature.to_csv('user_feature_2.csv', index=False)\n",
    "user_feature.head()"
   ]
  },
  {
   "cell_type": "code",
   "execution_count": 11,
   "metadata": {},
   "outputs": [
    {
     "name": "stdout",
     "output_type": "stream",
     "text": [
      "0:00:00.103006\n",
      "0:00:00.085005\n",
      "         user_id  item_id  cat_id  seller_id  brand_id  time_stamp  \\\n",
      "5644270      100   636915     737        933     983.0        1008   \n",
      "5644271      100  1008023     629          1    1662.0        1008   \n",
      "5644272      100   564669    1252       1860     918.0        1008   \n",
      "5644273      100  1008023     629          1    1662.0        1008   \n",
      "5644274      100   918789     629          1    1662.0        1008   \n",
      "\n",
      "         action_type  \n",
      "5644270            0  \n",
      "5644271            0  \n",
      "5644272            0  \n",
      "5644273            0  \n",
      "5644274            0  \n",
      "0:00:00.001000\n"
     ]
    }
   ],
   "source": [
    "start_time = datetime.now()\n",
    "a = user_log[user_log.user_id == 100]\n",
    "print(datetime.now()-start_time)\n",
    "\n",
    "start_time = datetime.now()\n",
    "a = user_log.loc[user_log.user_id == 100]\n",
    "print(datetime.now()-start_time)\n",
    "\n",
    "print(a.head())\n",
    "\n",
    "start_time = datetime.now()\n",
    "a[a['seller_id'] == 933]\n",
    "print(datetime.now()-start_time)\n",
    "\n"
   ]
  },
  {
   "cell_type": "code",
   "execution_count": 44,
   "metadata": {},
   "outputs": [
    {
     "data": {
      "text/html": [
       "<div>\n",
       "<style scoped>\n",
       "    .dataframe tbody tr th:only-of-type {\n",
       "        vertical-align: middle;\n",
       "    }\n",
       "\n",
       "    .dataframe tbody tr th {\n",
       "        vertical-align: top;\n",
       "    }\n",
       "\n",
       "    .dataframe thead th {\n",
       "        text-align: right;\n",
       "    }\n",
       "</style>\n",
       "<table border=\"1\" class=\"dataframe\">\n",
       "  <thead>\n",
       "    <tr style=\"text-align: right;\">\n",
       "      <th></th>\n",
       "      <th>user_id</th>\n",
       "    </tr>\n",
       "  </thead>\n",
       "  <tbody>\n",
       "    <tr>\n",
       "      <th>0</th>\n",
       "      <td>1</td>\n",
       "    </tr>\n",
       "  </tbody>\n",
       "</table>\n",
       "</div>"
      ],
      "text/plain": [
       "   user_id\n",
       "0        1"
      ]
     },
     "execution_count": 44,
     "metadata": {},
     "output_type": "execute_result"
    }
   ],
   "source": [
    "ret_user_data = pd.DataFrame(data={'user_id':[1]})\n",
    "ret_user_data"
   ]
  },
  {
   "cell_type": "code",
   "execution_count": 152,
   "metadata": {},
   "outputs": [
    {
     "data": {
      "text/html": [
       "<div>\n",
       "<style scoped>\n",
       "    .dataframe tbody tr th:only-of-type {\n",
       "        vertical-align: middle;\n",
       "    }\n",
       "\n",
       "    .dataframe tbody tr th {\n",
       "        vertical-align: top;\n",
       "    }\n",
       "\n",
       "    .dataframe thead th {\n",
       "        text-align: right;\n",
       "    }\n",
       "</style>\n",
       "<table border=\"1\" class=\"dataframe\">\n",
       "  <thead>\n",
       "    <tr style=\"text-align: right;\">\n",
       "      <th></th>\n",
       "      <th>item_id</th>\n",
       "      <th>cat_id</th>\n",
       "      <th>seller_id</th>\n",
       "      <th>brand_id</th>\n",
       "      <th>time_stamp</th>\n",
       "      <th>action_type</th>\n",
       "    </tr>\n",
       "    <tr>\n",
       "      <th>user_id</th>\n",
       "      <th></th>\n",
       "      <th></th>\n",
       "      <th></th>\n",
       "      <th></th>\n",
       "      <th></th>\n",
       "      <th></th>\n",
       "    </tr>\n",
       "  </thead>\n",
       "  <tbody>\n",
       "    <tr>\n",
       "      <th>139859</th>\n",
       "      <td>2</td>\n",
       "      <td>2</td>\n",
       "      <td>2</td>\n",
       "      <td>2</td>\n",
       "      <td>2</td>\n",
       "      <td>2</td>\n",
       "    </tr>\n",
       "    <tr>\n",
       "      <th>272389</th>\n",
       "      <td>8</td>\n",
       "      <td>8</td>\n",
       "      <td>8</td>\n",
       "      <td>8</td>\n",
       "      <td>8</td>\n",
       "      <td>8</td>\n",
       "    </tr>\n",
       "  </tbody>\n",
       "</table>\n",
       "</div>"
      ],
      "text/plain": [
       "         item_id  cat_id  seller_id  brand_id  time_stamp  action_type\n",
       "user_id                                                               \n",
       "139859         2       2          2         2           2            2\n",
       "272389         8       8          8         8           8            8"
      ]
     },
     "execution_count": 152,
     "metadata": {},
     "output_type": "execute_result"
    }
   ],
   "source": [
    "sub = user_log.iloc[650:660,:]\n",
    "#print(sub.groupby(['user_id','seller_id']).size())\n",
    "a = sub.groupby(['user_id']).count()\n",
    "a\n",
    "# b = a.reset_index()\n",
    "# b\n",
    "\n",
    "\n",
    "\n"
   ]
  },
  {
   "cell_type": "code",
   "execution_count": 10,
   "metadata": {},
   "outputs": [
    {
     "name": "stdout",
     "output_type": "stream",
     "text": [
      "0:01:51.006000\n",
      "0:05:10.018000\n"
     ]
    }
   ],
   "source": [
    "\n",
    "\n",
    "start_time = datetime.now()\n",
    "user_detail = user_log.loc[user_log.user_id == 100, :]\n",
    "user_act_seller = user_detail[user_detail['seller_id'] == 1]\n",
    "print((datetime.now()-start_time)*1000)\n",
    "\n",
    "start_time = datetime.now()\n",
    "user_detail = user_log.loc[(user_log.user_id == 100)&(user_log.seller_id==1), :]\n",
    "\n",
    "print((datetime.now()-start_time)*1000)"
   ]
  },
  {
   "cell_type": "code",
   "execution_count": 124,
   "metadata": {},
   "outputs": [
    {
     "name": "stdout",
     "output_type": "stream",
     "text": [
      "   user_id  seller_id\n",
      "0        1          2\n"
     ]
    },
    {
     "name": "stderr",
     "output_type": "stream",
     "text": [
      "C:\\Users\\zzf\\Anaconda3\\lib\\site-packages\\pandas\\core\\indexes\\api.py:107: RuntimeWarning: '<' not supported between instances of 'str' and 'int', sort order is undefined for incomparable objects\n",
      "  result = result.union(other)\n"
     ]
    },
    {
     "data": {
      "text/html": [
       "<div>\n",
       "<style scoped>\n",
       "    .dataframe tbody tr th:only-of-type {\n",
       "        vertical-align: middle;\n",
       "    }\n",
       "\n",
       "    .dataframe tbody tr th {\n",
       "        vertical-align: top;\n",
       "    }\n",
       "\n",
       "    .dataframe thead th {\n",
       "        text-align: right;\n",
       "    }\n",
       "</style>\n",
       "<table border=\"1\" class=\"dataframe\">\n",
       "  <thead>\n",
       "    <tr style=\"text-align: right;\">\n",
       "      <th></th>\n",
       "      <th>user_id</th>\n",
       "      <th>seller_id</th>\n",
       "    </tr>\n",
       "  </thead>\n",
       "  <tbody>\n",
       "    <tr>\n",
       "      <th>0</th>\n",
       "      <td>1</td>\n",
       "      <td>2</td>\n",
       "    </tr>\n",
       "  </tbody>\n",
       "</table>\n",
       "</div>"
      ],
      "text/plain": [
       "   user_id  seller_id\n",
       "0        1          2"
      ]
     },
     "execution_count": 124,
     "metadata": {},
     "output_type": "execute_result"
    }
   ],
   "source": [
    "d = pd.DataFrame(data={'user_id':[1],'seller_id':[2]})\n",
    "print(d)\n",
    "s = pd.Series({'user_id':3, 'seller_id':4})\n",
    "pd.concat([d,s], ignore_index=True)\n"
   ]
  },
  {
   "cell_type": "code",
   "execution_count": 28,
   "metadata": {},
   "outputs": [
    {
     "name": "stdout",
     "output_type": "stream",
     "text": [
      "          user_id  item_id  cat_id  seller_id  brand_id  time_stamp  \\\n",
      "35905644    34176   757713     821       3906    6268.0        1110   \n",
      "35905646    34176   757713     821       3906    6268.0        1110   \n",
      "35905672    34176   757713     821       3906    6268.0        1110   \n",
      "35905720    34176   757713     821       3906    6268.0        1031   \n",
      "35905804    34176   757713     821       3906    6268.0        1108   \n",
      "35905824    34176   757713     821       3906    6268.0        1029   \n",
      "35905876    34176   757713     821       3906    6268.0        1111   \n",
      "35905886    34176   757713     821       3906    6268.0        1111   \n",
      "35905895    34176   757713     821       3906    6268.0        1111   \n",
      "35905900    34176   757713     821       3906    6268.0        1111   \n",
      "35905960    34176   757713     821       3906    6268.0        1107   \n",
      "35905966    34176   757713     821       3906    6268.0        1107   \n",
      "35905999    34176   757713     821       3906    6268.0        1027   \n",
      "35906009    34176   757713     821       3906    6268.0        1027   \n",
      "35906016    34176   757713     821       3906    6268.0        1027   \n",
      "35906025    34176   757713     821       3906    6268.0        1027   \n",
      "\n",
      "          action_type  \n",
      "35905644            0  \n",
      "35905646            0  \n",
      "35905672            0  \n",
      "35905720            3  \n",
      "35905804            0  \n",
      "35905824            0  \n",
      "35905876            2  \n",
      "35905886            0  \n",
      "35905895            0  \n",
      "35905900            0  \n",
      "35905960            0  \n",
      "35905966            0  \n",
      "35905999            0  \n",
      "35906009            0  \n",
      "35906016            0  \n",
      "35906025            0  \n"
     ]
    },
    {
     "data": {
      "text/plain": [
       "item_id\n",
       "48054      False\n",
       "157439     False\n",
       "185202     False\n",
       "187402     False\n",
       "198962     False\n",
       "246109     False\n",
       "320263     False\n",
       "468438     False\n",
       "475546     False\n",
       "523545     False\n",
       "569051     False\n",
       "613698      True\n",
       "702940     False\n",
       "718096     False\n",
       "757713      True\n",
       "832131     False\n",
       "898580     False\n",
       "963534     False\n",
       "965699     False\n",
       "1093165    False\n",
       "dtype: bool"
      ]
     },
     "execution_count": 28,
     "metadata": {},
     "output_type": "execute_result"
    }
   ],
   "source": [
    "a = user_log.loc[(user_log['user_id']==34176)&(user_log['seller_id']==3906)]\n",
    "print(a[a['item_id']==757713])\n",
    "\n",
    "a.groupby('item_id').apply(lambda x: len(x['time_stamp'].value_counts()) > 1).sum()"
   ]
  }
 ],
 "metadata": {
  "kernelspec": {
   "display_name": "Python 3",
   "language": "python",
   "name": "python3"
  },
  "language_info": {
   "codemirror_mode": {
    "name": "ipython",
    "version": 3
   },
   "file_extension": ".py",
   "mimetype": "text/x-python",
   "name": "python",
   "nbconvert_exporter": "python",
   "pygments_lexer": "ipython3",
   "version": "3.6.5"
  }
 },
 "nbformat": 4,
 "nbformat_minor": 2
}
