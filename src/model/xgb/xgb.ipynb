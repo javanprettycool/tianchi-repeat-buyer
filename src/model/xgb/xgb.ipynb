{
 "cells": [
  {
   "cell_type": "code",
   "execution_count": 2,
   "metadata": {},
   "outputs": [],
   "source": [
    "import pandas as pd\n",
    "import numpy as np\n",
    "from datetime import datetime, date\n",
    "import matplotlib.pyplot as plt\n",
    "\n",
    "from sklearn.ensemble import RandomForestClassifier\n",
    "from sklearn.linear_model import LogisticRegression\n",
    "from xgboost.sklearn import XGBClassifier\n",
    "\n",
    "from sklearn.model_selection import GridSearchCV\n",
    "from sklearn.model_selection import train_test_split,StratifiedShuffleSplit,StratifiedKFold\n",
    "from sklearn.metrics import recall_score,f1_score,roc_auc_score,accuracy_score,confusion_matrix\n",
    "from sklearn.model_selection import StratifiedShuffleSplit\n"
   ]
  },
  {
   "cell_type": "code",
   "execution_count": 3,
   "metadata": {},
   "outputs": [
    {
     "data": {
      "text/html": [
       "<div>\n",
       "<style scoped>\n",
       "    .dataframe tbody tr th:only-of-type {\n",
       "        vertical-align: middle;\n",
       "    }\n",
       "\n",
       "    .dataframe tbody tr th {\n",
       "        vertical-align: top;\n",
       "    }\n",
       "\n",
       "    .dataframe thead th {\n",
       "        text-align: right;\n",
       "    }\n",
       "</style>\n",
       "<table border=\"1\" class=\"dataframe\">\n",
       "  <thead>\n",
       "    <tr style=\"text-align: right;\">\n",
       "      <th></th>\n",
       "      <th>user_id</th>\n",
       "      <th>merchant_id</th>\n",
       "      <th>user_viewed_action_count</th>\n",
       "      <th>user_viewed_item_cat_num</th>\n",
       "      <th>user_viewed_item_brand_num</th>\n",
       "      <th>user_viewed_item_num</th>\n",
       "      <th>user_viewed_item_click</th>\n",
       "      <th>user_viewed_item_addcart</th>\n",
       "      <th>user_viewed_item_buy</th>\n",
       "      <th>user_viewed_item_addcat</th>\n",
       "      <th>...</th>\n",
       "      <th>user_click_ratio</th>\n",
       "      <th>user_buy_ratio</th>\n",
       "      <th>user_addcat_ratio</th>\n",
       "      <th>user_buy_ratio2</th>\n",
       "      <th>repeat_viewed_count</th>\n",
       "      <th>repeat_buyer_same_item_count</th>\n",
       "      <th>repeat_buyer_diff_item_count</th>\n",
       "      <th>age_range</th>\n",
       "      <th>gender</th>\n",
       "      <th>label</th>\n",
       "    </tr>\n",
       "  </thead>\n",
       "  <tbody>\n",
       "    <tr>\n",
       "      <th>0</th>\n",
       "      <td>34176</td>\n",
       "      <td>3906</td>\n",
       "      <td>39</td>\n",
       "      <td>6</td>\n",
       "      <td>1</td>\n",
       "      <td>20</td>\n",
       "      <td>36</td>\n",
       "      <td>0</td>\n",
       "      <td>1</td>\n",
       "      <td>2</td>\n",
       "      <td>...</td>\n",
       "      <td>0.923077</td>\n",
       "      <td>0.025641</td>\n",
       "      <td>0.051282</td>\n",
       "      <td>0.333333</td>\n",
       "      <td>2</td>\n",
       "      <td>0</td>\n",
       "      <td>1</td>\n",
       "      <td>6.0</td>\n",
       "      <td>0.0</td>\n",
       "      <td>0</td>\n",
       "    </tr>\n",
       "    <tr>\n",
       "      <th>1</th>\n",
       "      <td>34176</td>\n",
       "      <td>121</td>\n",
       "      <td>14</td>\n",
       "      <td>1</td>\n",
       "      <td>1</td>\n",
       "      <td>1</td>\n",
       "      <td>13</td>\n",
       "      <td>0</td>\n",
       "      <td>1</td>\n",
       "      <td>0</td>\n",
       "      <td>...</td>\n",
       "      <td>0.928571</td>\n",
       "      <td>0.071429</td>\n",
       "      <td>0.000000</td>\n",
       "      <td>1.000000</td>\n",
       "      <td>1</td>\n",
       "      <td>0</td>\n",
       "      <td>1</td>\n",
       "      <td>6.0</td>\n",
       "      <td>0.0</td>\n",
       "      <td>0</td>\n",
       "    </tr>\n",
       "    <tr>\n",
       "      <th>2</th>\n",
       "      <td>34176</td>\n",
       "      <td>4356</td>\n",
       "      <td>18</td>\n",
       "      <td>1</td>\n",
       "      <td>1</td>\n",
       "      <td>2</td>\n",
       "      <td>12</td>\n",
       "      <td>0</td>\n",
       "      <td>6</td>\n",
       "      <td>0</td>\n",
       "      <td>...</td>\n",
       "      <td>0.666667</td>\n",
       "      <td>0.333333</td>\n",
       "      <td>0.000000</td>\n",
       "      <td>1.000000</td>\n",
       "      <td>1</td>\n",
       "      <td>1</td>\n",
       "      <td>2</td>\n",
       "      <td>6.0</td>\n",
       "      <td>0.0</td>\n",
       "      <td>1</td>\n",
       "    </tr>\n",
       "    <tr>\n",
       "      <th>3</th>\n",
       "      <td>34176</td>\n",
       "      <td>2217</td>\n",
       "      <td>2</td>\n",
       "      <td>1</td>\n",
       "      <td>1</td>\n",
       "      <td>1</td>\n",
       "      <td>1</td>\n",
       "      <td>0</td>\n",
       "      <td>1</td>\n",
       "      <td>0</td>\n",
       "      <td>...</td>\n",
       "      <td>0.500000</td>\n",
       "      <td>0.500000</td>\n",
       "      <td>0.000000</td>\n",
       "      <td>1.000000</td>\n",
       "      <td>0</td>\n",
       "      <td>0</td>\n",
       "      <td>1</td>\n",
       "      <td>6.0</td>\n",
       "      <td>0.0</td>\n",
       "      <td>0</td>\n",
       "    </tr>\n",
       "    <tr>\n",
       "      <th>4</th>\n",
       "      <td>230784</td>\n",
       "      <td>4818</td>\n",
       "      <td>8</td>\n",
       "      <td>1</td>\n",
       "      <td>1</td>\n",
       "      <td>1</td>\n",
       "      <td>7</td>\n",
       "      <td>0</td>\n",
       "      <td>1</td>\n",
       "      <td>0</td>\n",
       "      <td>...</td>\n",
       "      <td>0.875000</td>\n",
       "      <td>0.125000</td>\n",
       "      <td>0.000000</td>\n",
       "      <td>1.000000</td>\n",
       "      <td>1</td>\n",
       "      <td>0</td>\n",
       "      <td>1</td>\n",
       "      <td>0.0</td>\n",
       "      <td>0.0</td>\n",
       "      <td>0</td>\n",
       "    </tr>\n",
       "  </tbody>\n",
       "</table>\n",
       "<p>5 rows × 21 columns</p>\n",
       "</div>"
      ],
      "text/plain": [
       "   user_id  merchant_id  user_viewed_action_count  user_viewed_item_cat_num  \\\n",
       "0    34176         3906                        39                         6   \n",
       "1    34176          121                        14                         1   \n",
       "2    34176         4356                        18                         1   \n",
       "3    34176         2217                         2                         1   \n",
       "4   230784         4818                         8                         1   \n",
       "\n",
       "   user_viewed_item_brand_num  user_viewed_item_num  user_viewed_item_click  \\\n",
       "0                           1                    20                      36   \n",
       "1                           1                     1                      13   \n",
       "2                           1                     2                      12   \n",
       "3                           1                     1                       1   \n",
       "4                           1                     1                       7   \n",
       "\n",
       "   user_viewed_item_addcart  user_viewed_item_buy  user_viewed_item_addcat  \\\n",
       "0                         0                     1                        2   \n",
       "1                         0                     1                        0   \n",
       "2                         0                     6                        0   \n",
       "3                         0                     1                        0   \n",
       "4                         0                     1                        0   \n",
       "\n",
       "   ...    user_click_ratio  user_buy_ratio  user_addcat_ratio  \\\n",
       "0  ...            0.923077        0.025641           0.051282   \n",
       "1  ...            0.928571        0.071429           0.000000   \n",
       "2  ...            0.666667        0.333333           0.000000   \n",
       "3  ...            0.500000        0.500000           0.000000   \n",
       "4  ...            0.875000        0.125000           0.000000   \n",
       "\n",
       "   user_buy_ratio2  repeat_viewed_count  repeat_buyer_same_item_count  \\\n",
       "0         0.333333                    2                             0   \n",
       "1         1.000000                    1                             0   \n",
       "2         1.000000                    1                             1   \n",
       "3         1.000000                    0                             0   \n",
       "4         1.000000                    1                             0   \n",
       "\n",
       "   repeat_buyer_diff_item_count  age_range  gender  label  \n",
       "0                             1        6.0     0.0      0  \n",
       "1                             1        6.0     0.0      0  \n",
       "2                             2        6.0     0.0      1  \n",
       "3                             1        6.0     0.0      0  \n",
       "4                             1        0.0     0.0      0  \n",
       "\n",
       "[5 rows x 21 columns]"
      ]
     },
     "execution_count": 3,
     "metadata": {},
     "output_type": "execute_result"
    }
   ],
   "source": [
    "train_data = pd.read_csv('../../../data/feature/user_feature_train_2.csv')\n",
    "#test_data = pd.read_csv('../../data/test_data1.csv')\n",
    "train_data.head()"
   ]
  },
  {
   "cell_type": "code",
   "execution_count": 37,
   "metadata": {},
   "outputs": [
    {
     "data": {
      "text/plain": [
       "(260864, 18)"
      ]
     },
     "execution_count": 37,
     "metadata": {},
     "output_type": "execute_result"
    }
   ],
   "source": [
    "y = train_data['label'].values\n",
    "X = train_data.drop(['label', 'user_id', 'merchant_id'], axis=1).values\n",
    "X.shape"
   ]
  },
  {
   "cell_type": "markdown",
   "metadata": {},
   "source": [
    "#### 切下数据,交叉验证一下,然后简单跑一次看看"
   ]
  },
  {
   "cell_type": "code",
   "execution_count": 38,
   "metadata": {},
   "outputs": [
    {
     "name": "stdout",
     "output_type": "stream",
     "text": [
      "TRAIN: [133396  70415 205049 ..., 240081 238195 240749] TEST: [109297 175700 133527 ..., 118224 196859   9818]\n"
     ]
    }
   ],
   "source": [
    "ss = StratifiedShuffleSplit(n_splits=1, test_size=0.3, random_state=2018)\n",
    "for train_index ,test_index in ss.split(X, y):\n",
    "    print(\"TRAIN:\", train_index, \"TEST:\", test_index)\n",
    "    X_train, X_test = X[train_index], X[test_index]\n",
    "    y_train, y_test = y[train_index], y[test_index]"
   ]
  },
  {
   "cell_type": "code",
   "execution_count": 39,
   "metadata": {},
   "outputs": [],
   "source": [
    "#样本权重\n",
    "def get_scale_pos_weight(y_train):\n",
    "    label = y_train.value_counts()\n",
    "    ratio = float(label[0]) / float(label[1])\n",
    "    return ratio\n",
    "class_weight = get_scale_pos_weight(train_data['label'])"
   ]
  },
  {
   "cell_type": "code",
   "execution_count": 40,
   "metadata": {},
   "outputs": [
    {
     "name": "stdout",
     "output_type": "stream",
     "text": [
      "错误类为0.325288\n",
      "recall_score : 0.094\n",
      "f1_score : 0.158\n",
      "auc : 0.524\n",
      "accuracy_score : 0.675 \n",
      "混淆矩阵： [[50413 23061]\n",
      " [ 2396  2390]]\n"
     ]
    }
   ],
   "source": [
    "xgb = XGBClassifier(n_estimators=100,\\\n",
    "                       max_depth=3, \\\n",
    "                       learning_rate=0.1, \\\n",
    "                       subsample=0.8, \\\n",
    "                       colsample_bytree=0.8, \\\n",
    "                       scale_pos_weight=class_weight,\n",
    "                       n_jobs=-1,\n",
    "                       random_state=2018)\n",
    "\n",
    "xgb.fit(X_train, y_train)\n",
    "\n",
    "preds = xgb.predict(X_test)\n",
    "\n",
    "# 判断准确率\n",
    "print ('错误类为%f' %((preds!=y_test).sum()/float(y_test.shape[0])))\n",
    "print(\"recall_score : %.3f\" % recall_score(preds, y_test))\n",
    "print(\"f1_score : %.3f\" %  f1_score(preds, y_test))\n",
    "print(\"auc : %.3f\" % roc_auc_score(preds, y_test))\n",
    "print(\"accuracy_score : %.3f \" % accuracy_score(preds, y_test))\n",
    "print (\"混淆矩阵：\",confusion_matrix(y_test, preds))"
   ]
  },
  {
   "cell_type": "code",
   "execution_count": 88,
   "metadata": {},
   "outputs": [
    {
     "data": {
      "text/plain": [
       "array([0, 0, 0, ..., 0, 0, 0], dtype=int64)"
      ]
     },
     "execution_count": 88,
     "metadata": {},
     "output_type": "execute_result"
    }
   ],
   "source": [
    "y_test"
   ]
  },
  {
   "cell_type": "code",
   "execution_count": 15,
   "metadata": {},
   "outputs": [
    {
     "name": "stdout",
     "output_type": "stream",
     "text": [
      "Index(['user_viewed_action_count', 'user_viewed_item_cat_num',\n",
      "       'user_viewed_item_brand_num', 'user_viewed_item_num',\n",
      "       'user_viewed_item_click', 'user_viewed_item_addcart',\n",
      "       'user_viewed_item_buy', 'user_viewed_item_addcat', 'user_addcart_ratio',\n",
      "       'user_click_ratio', 'user_buy_ratio', 'user_addcat_ratio',\n",
      "       'user_buy_ratio2', 'repeat_viewed_count',\n",
      "       'repeat_buyer_same_item_count', 'repeat_buyer_diff_item_count'],\n",
      "      dtype='object')\n",
      "[ 0.12503709  0.09615194  0.04946088  0.11633198  0.06845386  0.00593531\n",
      "  0.03224849  0.02552181  0.02621426  0.14828371  0.08507271  0.07082798\n",
      "  0.02532397  0.09120586  0.01276091  0.02116925]\n"
     ]
    }
   ],
   "source": [
    "print(train_data.drop(['label', 'user_id', 'merchant_id', 'age_range', 'gender'], axis=1).columns)\n",
    "print(xgb.feature_importances_)"
   ]
  },
  {
   "cell_type": "markdown",
   "metadata": {},
   "source": [
    "* user_viewed_item_cat_num\n",
    "* user_viewed_item_num\n",
    "* user_viewed_item_buy  \n",
    "\n",
    "这几个特征重要度高"
   ]
  },
  {
   "cell_type": "code",
   "execution_count": 21,
   "metadata": {},
   "outputs": [
    {
     "data": {
      "text/plain": [
       "0.62386344687844009"
      ]
     },
     "execution_count": 21,
     "metadata": {},
     "output_type": "execute_result"
    }
   ],
   "source": [
    "cv_rf = XGBClassifier(n_jobs=-1, scale_pos_weight=class_weight, random_state=2018)\n",
    "param_grid = {'learning_rate': [0.1, 0.3, 0.8], 'max_depth': [3, 6, 9], 'n_estimators': [100, 150, 200]}\n",
    "grid_search = GridSearchCV(cv_rf, param_grid, cv=ss, scoring='roc_auc')\n",
    "grid_search.fit(X_train, y_train)\n",
    "grid_search.score(X_test, y_test)\n"
   ]
  },
  {
   "cell_type": "code",
   "execution_count": 24,
   "metadata": {},
   "outputs": [
    {
     "name": "stdout",
     "output_type": "stream",
     "text": [
      "{'learning_rate': 0.1, 'max_depth': 3, 'n_estimators': 100}\n",
      "0.618554976517\n",
      "XGBClassifier(base_score=0.5, booster='gbtree', colsample_bylevel=1,\n",
      "       colsample_bytree=1, gamma=0, learning_rate=0.1, max_delta_step=0,\n",
      "       max_depth=3, min_child_weight=1, missing=None, n_estimators=100,\n",
      "       n_jobs=-1, nthread=None, objective='binary:logistic',\n",
      "       random_state=2018, reg_alpha=0, reg_lambda=1,\n",
      "       scale_pos_weight=15.353059177532598, seed=None, silent=True,\n",
      "       subsample=1)\n"
     ]
    }
   ],
   "source": [
    "print(grid_search.best_params_)\n",
    "print(grid_search.best_score_)\n",
    "print(grid_search.best_estimator_)"
   ]
  },
  {
   "cell_type": "code",
   "execution_count": 23,
   "metadata": {},
   "outputs": [
    {
     "name": "stderr",
     "output_type": "stream",
     "text": [
      "C:\\Users\\zzf\\Anaconda3\\lib\\site-packages\\sklearn\\model_selection\\_search.py:761: DeprecationWarning: The grid_scores_ attribute was deprecated in version 0.18 in favor of the more elaborate cv_results_ attribute. The grid_scores_ attribute will not be available from 0.20\n",
      "  DeprecationWarning)\n"
     ]
    },
    {
     "data": {
      "text/plain": [
       "[mean: 0.61855, std: 0.00000, params: {'learning_rate': 0.1, 'max_depth': 3, 'n_estimators': 100},\n",
       " mean: 0.61821, std: 0.00000, params: {'learning_rate': 0.1, 'max_depth': 3, 'n_estimators': 150},\n",
       " mean: 0.61759, std: 0.00000, params: {'learning_rate': 0.1, 'max_depth': 3, 'n_estimators': 200},\n",
       " mean: 0.60157, std: 0.00000, params: {'learning_rate': 0.1, 'max_depth': 6, 'n_estimators': 100},\n",
       " mean: 0.59083, std: 0.00000, params: {'learning_rate': 0.1, 'max_depth': 6, 'n_estimators': 150},\n",
       " mean: 0.58436, std: 0.00000, params: {'learning_rate': 0.1, 'max_depth': 6, 'n_estimators': 200},\n",
       " mean: 0.56797, std: 0.00000, params: {'learning_rate': 0.1, 'max_depth': 9, 'n_estimators': 100},\n",
       " mean: 0.55611, std: 0.00000, params: {'learning_rate': 0.1, 'max_depth': 9, 'n_estimators': 150},\n",
       " mean: 0.54262, std: 0.00000, params: {'learning_rate': 0.1, 'max_depth': 9, 'n_estimators': 200},\n",
       " mean: 0.61269, std: 0.00000, params: {'learning_rate': 0.3, 'max_depth': 3, 'n_estimators': 100},\n",
       " mean: 0.60581, std: 0.00000, params: {'learning_rate': 0.3, 'max_depth': 3, 'n_estimators': 150},\n",
       " mean: 0.60079, std: 0.00000, params: {'learning_rate': 0.3, 'max_depth': 3, 'n_estimators': 200},\n",
       " mean: 0.56656, std: 0.00000, params: {'learning_rate': 0.3, 'max_depth': 6, 'n_estimators': 100},\n",
       " mean: 0.55237, std: 0.00000, params: {'learning_rate': 0.3, 'max_depth': 6, 'n_estimators': 150},\n",
       " mean: 0.54339, std: 0.00000, params: {'learning_rate': 0.3, 'max_depth': 6, 'n_estimators': 200},\n",
       " mean: 0.50990, std: 0.00000, params: {'learning_rate': 0.3, 'max_depth': 9, 'n_estimators': 100},\n",
       " mean: 0.49046, std: 0.00000, params: {'learning_rate': 0.3, 'max_depth': 9, 'n_estimators': 150},\n",
       " mean: 0.47770, std: 0.00000, params: {'learning_rate': 0.3, 'max_depth': 9, 'n_estimators': 200},\n",
       " mean: 0.58637, std: 0.00000, params: {'learning_rate': 0.8, 'max_depth': 3, 'n_estimators': 100},\n",
       " mean: 0.57741, std: 0.00000, params: {'learning_rate': 0.8, 'max_depth': 3, 'n_estimators': 150},\n",
       " mean: 0.57260, std: 0.00000, params: {'learning_rate': 0.8, 'max_depth': 3, 'n_estimators': 200},\n",
       " mean: 0.51561, std: 0.00000, params: {'learning_rate': 0.8, 'max_depth': 6, 'n_estimators': 100},\n",
       " mean: 0.49922, std: 0.00000, params: {'learning_rate': 0.8, 'max_depth': 6, 'n_estimators': 150},\n",
       " mean: 0.49250, std: 0.00000, params: {'learning_rate': 0.8, 'max_depth': 6, 'n_estimators': 200},\n",
       " mean: 0.46055, std: 0.00000, params: {'learning_rate': 0.8, 'max_depth': 9, 'n_estimators': 100},\n",
       " mean: 0.45580, std: 0.00000, params: {'learning_rate': 0.8, 'max_depth': 9, 'n_estimators': 150},\n",
       " mean: 0.45071, std: 0.00000, params: {'learning_rate': 0.8, 'max_depth': 9, 'n_estimators': 200}]"
      ]
     },
     "execution_count": 23,
     "metadata": {},
     "output_type": "execute_result"
    }
   ],
   "source": [
    "grid_search.grid_scores_"
   ]
  },
  {
   "cell_type": "code",
   "execution_count": 28,
   "metadata": {},
   "outputs": [
    {
     "data": {
      "image/png": "[encoded data removed]",
      "text/plain": [
       "<Figure size 432x288 with 1 Axes>"
      ]
     },
     "metadata": {},
     "output_type": "display_data"
    }
   ],
   "source": [
    "from sklearn.model_selection import learning_curve\n",
    "def plot_learning_curve(estimator, title, X, y, ylim=None, cv=None,\n",
    "                        n_jobs=-1, train_sizes=np.linspace(.1, 1.0, 20), scoring='roc_auc'):\n",
    "    plt.figure()\n",
    "    plt.title(title)\n",
    "    if ylim is not None:\n",
    "        plt.ylim(*ylim)\n",
    "    plt.xlabel(\"Training examples\")\n",
    "    plt.ylabel(\"Score\")\n",
    "    train_sizes, train_scores, test_scores = learning_curve(\n",
    "        estimator, X, y, cv=cv, n_jobs=n_jobs, train_sizes=train_sizes, scoring=scoring)\n",
    "    train_scores_mean = np.mean(train_scores, axis=1)\n",
    "    train_scores_std = np.std(train_scores, axis=1)\n",
    "    test_scores_mean = np.mean(test_scores, axis=1)\n",
    "    test_scores_std = np.std(test_scores, axis=1)\n",
    "    plt.grid()\n",
    "\n",
    "    plt.fill_between(train_sizes, train_scores_mean - train_scores_std,\n",
    "                     train_scores_mean + train_scores_std, alpha=0.1,\n",
    "                     color=\"r\")\n",
    "    plt.fill_between(train_sizes, test_scores_mean - test_scores_std,\n",
    "                     test_scores_mean + test_scores_std, alpha=0.1, color=\"g\")\n",
    "    plt.plot(train_sizes, train_scores_mean, 'o-', color=\"r\",\n",
    "             label=\"Training score\")\n",
    "    plt.plot(train_sizes, test_scores_mean, 'o-', color=\"g\",\n",
    "             label=\"Cross-validation score\")\n",
    "\n",
    "    plt.legend(loc=\"best\")\n",
    "    return plt\n",
    "\n",
    "title = 'Learning Curves(random forest)'\n",
    "plot_learning_curve(xgb, title, X, y, (0.1, 1.01), cv=ss, n_jobs=4)\n",
    "plt.show()"
   ]
  },
  {
   "cell_type": "code",
   "execution_count": 29,
   "metadata": {},
   "outputs": [
    {
     "data": {
      "text/html": [
       "<div>\n",
       "<style scoped>\n",
       "    .dataframe tbody tr th:only-of-type {\n",
       "        vertical-align: middle;\n",
       "    }\n",
       "\n",
       "    .dataframe tbody tr th {\n",
       "        vertical-align: top;\n",
       "    }\n",
       "\n",
       "    .dataframe thead th {\n",
       "        text-align: right;\n",
       "    }\n",
       "</style>\n",
       "<table border=\"1\" class=\"dataframe\">\n",
       "  <thead>\n",
       "    <tr style=\"text-align: right;\">\n",
       "      <th></th>\n",
       "      <th>user_id</th>\n",
       "      <th>merchant_id</th>\n",
       "      <th>user_viewed_action_count</th>\n",
       "      <th>user_viewed_item_cat_num</th>\n",
       "      <th>user_viewed_item_brand_num</th>\n",
       "      <th>user_viewed_item_num</th>\n",
       "      <th>user_viewed_item_click</th>\n",
       "      <th>user_viewed_item_addcart</th>\n",
       "      <th>user_viewed_item_buy</th>\n",
       "      <th>user_viewed_item_addcat</th>\n",
       "      <th>user_addcart_ratio</th>\n",
       "      <th>user_click_ratio</th>\n",
       "      <th>user_buy_ratio</th>\n",
       "      <th>user_addcat_ratio</th>\n",
       "      <th>user_buy_ratio2</th>\n",
       "      <th>repeat_viewed_count</th>\n",
       "      <th>repeat_buyer_same_item_count</th>\n",
       "      <th>repeat_buyer_diff_item_count</th>\n",
       "      <th>age_range</th>\n",
       "      <th>gender</th>\n",
       "    </tr>\n",
       "  </thead>\n",
       "  <tbody>\n",
       "    <tr>\n",
       "      <th>0</th>\n",
       "      <td>163968</td>\n",
       "      <td>4605</td>\n",
       "      <td>2</td>\n",
       "      <td>1</td>\n",
       "      <td>1</td>\n",
       "      <td>1</td>\n",
       "      <td>1</td>\n",
       "      <td>0</td>\n",
       "      <td>1</td>\n",
       "      <td>0</td>\n",
       "      <td>0.0</td>\n",
       "      <td>0.500000</td>\n",
       "      <td>0.500000</td>\n",
       "      <td>0.00</td>\n",
       "      <td>1.000000</td>\n",
       "      <td>0</td>\n",
       "      <td>0</td>\n",
       "      <td>1</td>\n",
       "      <td>0.0</td>\n",
       "      <td>0.0</td>\n",
       "    </tr>\n",
       "    <tr>\n",
       "      <th>1</th>\n",
       "      <td>360576</td>\n",
       "      <td>1581</td>\n",
       "      <td>10</td>\n",
       "      <td>4</td>\n",
       "      <td>1</td>\n",
       "      <td>9</td>\n",
       "      <td>5</td>\n",
       "      <td>0</td>\n",
       "      <td>5</td>\n",
       "      <td>0</td>\n",
       "      <td>0.0</td>\n",
       "      <td>0.500000</td>\n",
       "      <td>0.500000</td>\n",
       "      <td>0.00</td>\n",
       "      <td>1.000000</td>\n",
       "      <td>0</td>\n",
       "      <td>0</td>\n",
       "      <td>5</td>\n",
       "      <td>2.0</td>\n",
       "      <td>2.0</td>\n",
       "    </tr>\n",
       "    <tr>\n",
       "      <th>2</th>\n",
       "      <td>98688</td>\n",
       "      <td>1964</td>\n",
       "      <td>6</td>\n",
       "      <td>1</td>\n",
       "      <td>1</td>\n",
       "      <td>1</td>\n",
       "      <td>5</td>\n",
       "      <td>0</td>\n",
       "      <td>1</td>\n",
       "      <td>0</td>\n",
       "      <td>0.0</td>\n",
       "      <td>0.833333</td>\n",
       "      <td>0.166667</td>\n",
       "      <td>0.00</td>\n",
       "      <td>1.000000</td>\n",
       "      <td>0</td>\n",
       "      <td>0</td>\n",
       "      <td>1</td>\n",
       "      <td>6.0</td>\n",
       "      <td>0.0</td>\n",
       "    </tr>\n",
       "    <tr>\n",
       "      <th>3</th>\n",
       "      <td>98688</td>\n",
       "      <td>3645</td>\n",
       "      <td>11</td>\n",
       "      <td>1</td>\n",
       "      <td>1</td>\n",
       "      <td>1</td>\n",
       "      <td>10</td>\n",
       "      <td>0</td>\n",
       "      <td>1</td>\n",
       "      <td>0</td>\n",
       "      <td>0.0</td>\n",
       "      <td>0.909091</td>\n",
       "      <td>0.090909</td>\n",
       "      <td>0.00</td>\n",
       "      <td>1.000000</td>\n",
       "      <td>0</td>\n",
       "      <td>0</td>\n",
       "      <td>1</td>\n",
       "      <td>6.0</td>\n",
       "      <td>0.0</td>\n",
       "    </tr>\n",
       "    <tr>\n",
       "      <th>4</th>\n",
       "      <td>295296</td>\n",
       "      <td>3361</td>\n",
       "      <td>50</td>\n",
       "      <td>4</td>\n",
       "      <td>2</td>\n",
       "      <td>8</td>\n",
       "      <td>47</td>\n",
       "      <td>0</td>\n",
       "      <td>1</td>\n",
       "      <td>2</td>\n",
       "      <td>0.0</td>\n",
       "      <td>0.940000</td>\n",
       "      <td>0.020000</td>\n",
       "      <td>0.04</td>\n",
       "      <td>0.333333</td>\n",
       "      <td>4</td>\n",
       "      <td>0</td>\n",
       "      <td>1</td>\n",
       "      <td>2.0</td>\n",
       "      <td>1.0</td>\n",
       "    </tr>\n",
       "  </tbody>\n",
       "</table>\n",
       "</div>"
      ],
      "text/plain": [
       "   user_id  merchant_id  user_viewed_action_count  user_viewed_item_cat_num  \\\n",
       "0   163968         4605                         2                         1   \n",
       "1   360576         1581                        10                         4   \n",
       "2    98688         1964                         6                         1   \n",
       "3    98688         3645                        11                         1   \n",
       "4   295296         3361                        50                         4   \n",
       "\n",
       "   user_viewed_item_brand_num  user_viewed_item_num  user_viewed_item_click  \\\n",
       "0                           1                     1                       1   \n",
       "1                           1                     9                       5   \n",
       "2                           1                     1                       5   \n",
       "3                           1                     1                      10   \n",
       "4                           2                     8                      47   \n",
       "\n",
       "   user_viewed_item_addcart  user_viewed_item_buy  user_viewed_item_addcat  \\\n",
       "0                         0                     1                        0   \n",
       "1                         0                     5                        0   \n",
       "2                         0                     1                        0   \n",
       "3                         0                     1                        0   \n",
       "4                         0                     1                        2   \n",
       "\n",
       "   user_addcart_ratio  user_click_ratio  user_buy_ratio  user_addcat_ratio  \\\n",
       "0                 0.0          0.500000        0.500000               0.00   \n",
       "1                 0.0          0.500000        0.500000               0.00   \n",
       "2                 0.0          0.833333        0.166667               0.00   \n",
       "3                 0.0          0.909091        0.090909               0.00   \n",
       "4                 0.0          0.940000        0.020000               0.04   \n",
       "\n",
       "   user_buy_ratio2  repeat_viewed_count  repeat_buyer_same_item_count  \\\n",
       "0         1.000000                    0                             0   \n",
       "1         1.000000                    0                             0   \n",
       "2         1.000000                    0                             0   \n",
       "3         1.000000                    0                             0   \n",
       "4         0.333333                    4                             0   \n",
       "\n",
       "   repeat_buyer_diff_item_count  age_range  gender  \n",
       "0                             1        0.0     0.0  \n",
       "1                             5        2.0     2.0  \n",
       "2                             1        6.0     0.0  \n",
       "3                             1        6.0     0.0  \n",
       "4                             1        2.0     1.0  "
      ]
     },
     "execution_count": 29,
     "metadata": {},
     "output_type": "execute_result"
    }
   ],
   "source": [
    "#测试数据\n",
    "test_data = pd.read_csv('../../../data/feature/user_feature_test_2.csv')\n",
    "test_data.head()"
   ]
  },
  {
   "cell_type": "code",
   "execution_count": 55,
   "metadata": {},
   "outputs": [
    {
     "data": {
      "text/html": [
       "<div>\n",
       "<style scoped>\n",
       "    .dataframe tbody tr th:only-of-type {\n",
       "        vertical-align: middle;\n",
       "    }\n",
       "\n",
       "    .dataframe tbody tr th {\n",
       "        vertical-align: top;\n",
       "    }\n",
       "\n",
       "    .dataframe thead th {\n",
       "        text-align: right;\n",
       "    }\n",
       "</style>\n",
       "<table border=\"1\" class=\"dataframe\">\n",
       "  <thead>\n",
       "    <tr style=\"text-align: right;\">\n",
       "      <th></th>\n",
       "      <th>user_id</th>\n",
       "      <th>merchant_id</th>\n",
       "    </tr>\n",
       "  </thead>\n",
       "  <tbody>\n",
       "    <tr>\n",
       "      <th>0</th>\n",
       "      <td>163968</td>\n",
       "      <td>4605</td>\n",
       "    </tr>\n",
       "    <tr>\n",
       "      <th>1</th>\n",
       "      <td>360576</td>\n",
       "      <td>1581</td>\n",
       "    </tr>\n",
       "    <tr>\n",
       "      <th>2</th>\n",
       "      <td>98688</td>\n",
       "      <td>1964</td>\n",
       "    </tr>\n",
       "    <tr>\n",
       "      <th>3</th>\n",
       "      <td>98688</td>\n",
       "      <td>3645</td>\n",
       "    </tr>\n",
       "    <tr>\n",
       "      <th>4</th>\n",
       "      <td>295296</td>\n",
       "      <td>3361</td>\n",
       "    </tr>\n",
       "  </tbody>\n",
       "</table>\n",
       "</div>"
      ],
      "text/plain": [
       "   user_id  merchant_id\n",
       "0   163968         4605\n",
       "1   360576         1581\n",
       "2    98688         1964\n",
       "3    98688         3645\n",
       "4   295296         3361"
      ]
     },
     "execution_count": 55,
     "metadata": {},
     "output_type": "execute_result"
    }
   ],
   "source": [
    "user_seller = test_data[[\"user_id\", \"merchant_id\"]]\n",
    "predict_data = test_data.drop([\"user_id\", \"merchant_id\"], axis=1)\n",
    "user_seller.head()"
   ]
  },
  {
   "cell_type": "code",
   "execution_count": 59,
   "metadata": {},
   "outputs": [
    {
     "data": {
      "text/plain": [
       "array([[  0.00000000e+00,   2.00000000e+00,   1.00000000e+00, ...,\n",
       "          1.00000000e+00,   0.00000000e+00,   0.00000000e+00],\n",
       "       [  1.00000000e+00,   1.00000000e+01,   4.00000000e+00, ...,\n",
       "          5.00000000e+00,   2.00000000e+00,   2.00000000e+00],\n",
       "       [  2.00000000e+00,   6.00000000e+00,   1.00000000e+00, ...,\n",
       "          1.00000000e+00,   6.00000000e+00,   0.00000000e+00],\n",
       "       ..., \n",
       "       [  2.61474000e+05,   1.60000000e+01,   2.00000000e+00, ...,\n",
       "          3.00000000e+00,   8.00000000e+00,   1.00000000e+00],\n",
       "       [  2.61475000e+05,   3.00000000e+00,   1.00000000e+00, ...,\n",
       "          1.00000000e+00,   0.00000000e+00,   0.00000000e+00],\n",
       "       [  2.61476000e+05,   1.10000000e+01,   1.00000000e+00, ...,\n",
       "          1.00000000e+00,   0.00000000e+00,   0.00000000e+00]])"
      ]
     },
     "execution_count": 59,
     "metadata": {},
     "output_type": "execute_result"
    }
   ],
   "source": [
    "predict_data.values"
   ]
  },
  {
   "cell_type": "code",
   "execution_count": 60,
   "metadata": {},
   "outputs": [
    {
     "ename": "AttributeError",
     "evalue": "'numpy.ndarray' object has no attribute 'head'",
     "output_type": "error",
     "traceback": [
      "\u001b[1;31m---------------------------------------------------------------------------\u001b[0m",
      "\u001b[1;31mAttributeError\u001b[0m                            Traceback (most recent call last)",
      "\u001b[1;32m<ipython-input-60-5003202cb35c>\u001b[0m in \u001b[0;36m<module>\u001b[1;34m()\u001b[0m\n\u001b[0;32m     10\u001b[0m \u001b[1;33m\u001b[0m\u001b[0m\n\u001b[0;32m     11\u001b[0m \u001b[0mpreds\u001b[0m \u001b[1;33m=\u001b[0m \u001b[0mxgb\u001b[0m\u001b[1;33m.\u001b[0m\u001b[0mpredict_proba\u001b[0m\u001b[1;33m(\u001b[0m\u001b[0mpredict_data\u001b[0m\u001b[1;33m.\u001b[0m\u001b[0mvalues\u001b[0m\u001b[1;33m)\u001b[0m\u001b[1;33m\u001b[0m\u001b[0m\n\u001b[1;32m---> 12\u001b[1;33m \u001b[0mpreds\u001b[0m\u001b[1;33m.\u001b[0m\u001b[0mhead\u001b[0m\u001b[1;33m(\u001b[0m\u001b[1;33m)\u001b[0m\u001b[1;33m\u001b[0m\u001b[0m\n\u001b[0m",
      "\u001b[1;31mAttributeError\u001b[0m: 'numpy.ndarray' object has no attribute 'head'"
     ]
    }
   ],
   "source": [
    "#用全量数据训练\n",
    "y = train_data['label'].values\n",
    "X = train_data.drop(['label', 'user_id', 'merchant_id'], axis=1).values\n",
    "\n",
    "xgb = XGBClassifier(n_estimators=100,\\\n",
    "                       max_depth=3, \\\n",
    "                       learning_rate=0.1, \\\n",
    "                       subsample=0.8, \\\n",
    "                       colsample_bytree=0.8, \\\n",
    "                       scale_pos_weight=class_weight,\n",
    "                       n_jobs=-1,\n",
    "                       random_state=2018)\n",
    "\n",
    "xgb.fit(X, y)\n",
    "\n",
    "preds = xgb.predict_proba(predict_data.values)\n",
    "preds.head()"
   ]
  },
  {
   "cell_type": "code",
   "execution_count": 64,
   "metadata": {},
   "outputs": [
    {
     "name": "stderr",
     "output_type": "stream",
     "text": [
      "C:\\Users\\zzf\\Anaconda3\\lib\\site-packages\\ipykernel_launcher.py:1: SettingWithCopyWarning: \n",
      "A value is trying to be set on a copy of a slice from a DataFrame.\n",
      "Try using .loc[row_indexer,col_indexer] = value instead\n",
      "\n",
      "See the caveats in the documentation: http://pandas.pydata.org/pandas-docs/stable/indexing.html#indexing-view-versus-copy\n",
      "  \"\"\"Entry point for launching an IPython kernel.\n"
     ]
    }
   ],
   "source": [
    "user_seller['prob'] = preds[:,1]"
   ]
  },
  {
   "cell_type": "code",
   "execution_count": 67,
   "metadata": {},
   "outputs": [],
   "source": [
    "user_seller.to_csv('../../../data/result/result1.csv', index=False)"
   ]
  }
 ],
 "metadata": {
  "kernelspec": {
   "display_name": "Python 3",
   "language": "python",
   "name": "python3"
  },
  "language_info": {
   "codemirror_mode": {
    "name": "ipython",
    "version": 3
   },
   "file_extension": ".py",
   "mimetype": "text/x-python",
   "name": "python",
   "nbconvert_exporter": "python",
   "pygments_lexer": "ipython3",
   "version": "3.6.5"
  }
 },
 "nbformat": 4,
 "nbformat_minor": 2
}
