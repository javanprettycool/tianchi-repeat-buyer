{
 "cells": [
  {
   "cell_type": "code",
   "execution_count": 76,
   "metadata": {},
   "outputs": [],
   "source": [
    "import pandas as pd\n",
    "import numpy as np\n",
    "from datetime import datetime, date\n",
    "import matplotlib.pyplot as plt\n",
    "\n",
    "from sklearn.ensemble import RandomForestClassifier\n",
    "from sklearn.linear_model import LogisticRegression\n",
    "from xgboost.sklearn import XGBClassifier\n",
    "\n",
    "from sklearn.model_selection import GridSearchCV\n",
    "from sklearn.model_selection import train_test_split,StratifiedShuffleSplit,StratifiedKFold\n",
    "from sklearn.metrics import recall_score,f1_score,roc_auc_score,accuracy_score,confusion_matrix\n",
    "from sklearn.model_selection import StratifiedShuffleSplit\n"
   ]
  },
  {
   "cell_type": "code",
   "execution_count": 9,
   "metadata": {},
   "outputs": [
    {
     "data": {
      "text/html": [
       "<div>\n",
       "<style scoped>\n",
       "    .dataframe tbody tr th:only-of-type {\n",
       "        vertical-align: middle;\n",
       "    }\n",
       "\n",
       "    .dataframe tbody tr th {\n",
       "        vertical-align: top;\n",
       "    }\n",
       "\n",
       "    .dataframe thead th {\n",
       "        text-align: right;\n",
       "    }\n",
       "</style>\n",
       "<table border=\"1\" class=\"dataframe\">\n",
       "  <thead>\n",
       "    <tr style=\"text-align: right;\">\n",
       "      <th></th>\n",
       "      <th>user_id</th>\n",
       "      <th>merchant_id</th>\n",
       "      <th>user_viewed_action_count</th>\n",
       "      <th>user_viewed_item_cat_num</th>\n",
       "      <th>user_viewed_item_brand_num</th>\n",
       "      <th>user_viewed_item_num</th>\n",
       "      <th>user_viewed_item_click</th>\n",
       "      <th>user_viewed_item_addcart</th>\n",
       "      <th>user_viewed_item_buy</th>\n",
       "      <th>user_viewed_item_addcat</th>\n",
       "      <th>...</th>\n",
       "      <th>user_click_ratio</th>\n",
       "      <th>user_buy_ratio</th>\n",
       "      <th>user_addcat_ratio</th>\n",
       "      <th>user_buy_ratio2</th>\n",
       "      <th>repeat_viewed_count</th>\n",
       "      <th>repeat_buyer_same_item_count</th>\n",
       "      <th>repeat_buyer_diff_item_count</th>\n",
       "      <th>age_range</th>\n",
       "      <th>gender</th>\n",
       "      <th>label</th>\n",
       "    </tr>\n",
       "  </thead>\n",
       "  <tbody>\n",
       "    <tr>\n",
       "      <th>0</th>\n",
       "      <td>34176</td>\n",
       "      <td>3906</td>\n",
       "      <td>39</td>\n",
       "      <td>6</td>\n",
       "      <td>1</td>\n",
       "      <td>20</td>\n",
       "      <td>36</td>\n",
       "      <td>0</td>\n",
       "      <td>1</td>\n",
       "      <td>2</td>\n",
       "      <td>...</td>\n",
       "      <td>0.923077</td>\n",
       "      <td>0.025641</td>\n",
       "      <td>0.051282</td>\n",
       "      <td>0.333333</td>\n",
       "      <td>2</td>\n",
       "      <td>0</td>\n",
       "      <td>1</td>\n",
       "      <td>6.0</td>\n",
       "      <td>0.0</td>\n",
       "      <td>0</td>\n",
       "    </tr>\n",
       "    <tr>\n",
       "      <th>1</th>\n",
       "      <td>34176</td>\n",
       "      <td>121</td>\n",
       "      <td>14</td>\n",
       "      <td>1</td>\n",
       "      <td>1</td>\n",
       "      <td>1</td>\n",
       "      <td>13</td>\n",
       "      <td>0</td>\n",
       "      <td>1</td>\n",
       "      <td>0</td>\n",
       "      <td>...</td>\n",
       "      <td>0.928571</td>\n",
       "      <td>0.071429</td>\n",
       "      <td>0.000000</td>\n",
       "      <td>1.000000</td>\n",
       "      <td>1</td>\n",
       "      <td>0</td>\n",
       "      <td>1</td>\n",
       "      <td>6.0</td>\n",
       "      <td>0.0</td>\n",
       "      <td>0</td>\n",
       "    </tr>\n",
       "    <tr>\n",
       "      <th>2</th>\n",
       "      <td>34176</td>\n",
       "      <td>4356</td>\n",
       "      <td>18</td>\n",
       "      <td>1</td>\n",
       "      <td>1</td>\n",
       "      <td>2</td>\n",
       "      <td>12</td>\n",
       "      <td>0</td>\n",
       "      <td>6</td>\n",
       "      <td>0</td>\n",
       "      <td>...</td>\n",
       "      <td>0.666667</td>\n",
       "      <td>0.333333</td>\n",
       "      <td>0.000000</td>\n",
       "      <td>1.000000</td>\n",
       "      <td>1</td>\n",
       "      <td>1</td>\n",
       "      <td>2</td>\n",
       "      <td>6.0</td>\n",
       "      <td>0.0</td>\n",
       "      <td>1</td>\n",
       "    </tr>\n",
       "    <tr>\n",
       "      <th>3</th>\n",
       "      <td>34176</td>\n",
       "      <td>2217</td>\n",
       "      <td>2</td>\n",
       "      <td>1</td>\n",
       "      <td>1</td>\n",
       "      <td>1</td>\n",
       "      <td>1</td>\n",
       "      <td>0</td>\n",
       "      <td>1</td>\n",
       "      <td>0</td>\n",
       "      <td>...</td>\n",
       "      <td>0.500000</td>\n",
       "      <td>0.500000</td>\n",
       "      <td>0.000000</td>\n",
       "      <td>1.000000</td>\n",
       "      <td>0</td>\n",
       "      <td>0</td>\n",
       "      <td>1</td>\n",
       "      <td>6.0</td>\n",
       "      <td>0.0</td>\n",
       "      <td>0</td>\n",
       "    </tr>\n",
       "    <tr>\n",
       "      <th>4</th>\n",
       "      <td>230784</td>\n",
       "      <td>4818</td>\n",
       "      <td>8</td>\n",
       "      <td>1</td>\n",
       "      <td>1</td>\n",
       "      <td>1</td>\n",
       "      <td>7</td>\n",
       "      <td>0</td>\n",
       "      <td>1</td>\n",
       "      <td>0</td>\n",
       "      <td>...</td>\n",
       "      <td>0.875000</td>\n",
       "      <td>0.125000</td>\n",
       "      <td>0.000000</td>\n",
       "      <td>1.000000</td>\n",
       "      <td>1</td>\n",
       "      <td>0</td>\n",
       "      <td>1</td>\n",
       "      <td>0.0</td>\n",
       "      <td>0.0</td>\n",
       "      <td>0</td>\n",
       "    </tr>\n",
       "  </tbody>\n",
       "</table>\n",
       "<p>5 rows × 21 columns</p>\n",
       "</div>"
      ],
      "text/plain": [
       "   user_id  merchant_id  user_viewed_action_count  user_viewed_item_cat_num  \\\n",
       "0    34176         3906                        39                         6   \n",
       "1    34176          121                        14                         1   \n",
       "2    34176         4356                        18                         1   \n",
       "3    34176         2217                         2                         1   \n",
       "4   230784         4818                         8                         1   \n",
       "\n",
       "   user_viewed_item_brand_num  user_viewed_item_num  user_viewed_item_click  \\\n",
       "0                           1                    20                      36   \n",
       "1                           1                     1                      13   \n",
       "2                           1                     2                      12   \n",
       "3                           1                     1                       1   \n",
       "4                           1                     1                       7   \n",
       "\n",
       "   user_viewed_item_addcart  user_viewed_item_buy  user_viewed_item_addcat  \\\n",
       "0                         0                     1                        2   \n",
       "1                         0                     1                        0   \n",
       "2                         0                     6                        0   \n",
       "3                         0                     1                        0   \n",
       "4                         0                     1                        0   \n",
       "\n",
       "   ...    user_click_ratio  user_buy_ratio  user_addcat_ratio  \\\n",
       "0  ...            0.923077        0.025641           0.051282   \n",
       "1  ...            0.928571        0.071429           0.000000   \n",
       "2  ...            0.666667        0.333333           0.000000   \n",
       "3  ...            0.500000        0.500000           0.000000   \n",
       "4  ...            0.875000        0.125000           0.000000   \n",
       "\n",
       "   user_buy_ratio2  repeat_viewed_count  repeat_buyer_same_item_count  \\\n",
       "0         0.333333                    2                             0   \n",
       "1         1.000000                    1                             0   \n",
       "2         1.000000                    1                             1   \n",
       "3         1.000000                    0                             0   \n",
       "4         1.000000                    1                             0   \n",
       "\n",
       "   repeat_buyer_diff_item_count  age_range  gender  label  \n",
       "0                             1        6.0     0.0      0  \n",
       "1                             1        6.0     0.0      0  \n",
       "2                             2        6.0     0.0      1  \n",
       "3                             1        6.0     0.0      0  \n",
       "4                             1        0.0     0.0      0  \n",
       "\n",
       "[5 rows x 21 columns]"
      ]
     },
     "execution_count": 9,
     "metadata": {},
     "output_type": "execute_result"
    }
   ],
   "source": [
    "train_data = pd.read_csv('../../../data/feature/user_feature_train_2.csv')\n",
    "#test_data = pd.read_csv('../../data/test_data1.csv')\n",
    "train_data.head()"
   ]
  },
  {
   "cell_type": "code",
   "execution_count": 97,
   "metadata": {},
   "outputs": [
    {
     "data": {
      "text/plain": [
       "(260864, 18)"
      ]
     },
     "execution_count": 97,
     "metadata": {},
     "output_type": "execute_result"
    }
   ],
   "source": [
    "y = train_data['label'].values\n",
    "X = train_data.drop(['label', 'user_id', 'merchant_id'], axis=1).values\n",
    "X.shape"
   ]
  },
  {
   "cell_type": "markdown",
   "metadata": {},
   "source": [
    "#### 切下数据,交叉验证一下,然后简单跑一次看看"
   ]
  },
  {
   "cell_type": "code",
   "execution_count": 98,
   "metadata": {},
   "outputs": [
    {
     "name": "stdout",
     "output_type": "stream",
     "text": [
      "TRAIN: [133396  70415 205049 ..., 240081 238195 240749] TEST: [109297 175700 133527 ..., 118224 196859   9818]\n"
     ]
    }
   ],
   "source": [
    "ss = StratifiedShuffleSplit(n_splits=1, test_size=0.3, random_state=2018)\n",
    "for train_index ,test_index in ss.split(X, y):\n",
    "    print(\"TRAIN:\", train_index, \"TEST:\", test_index)\n",
    "    X_train, X_test = X[train_index], X[test_index]\n",
    "    y_train, y_test = y[train_index], y[test_index]"
   ]
  },
  {
   "cell_type": "code",
   "execution_count": 99,
   "metadata": {},
   "outputs": [],
   "source": [
    "#样本权重\n",
    "def get_scale_pos_weight(y_train):\n",
    "    label = y_train.value_counts()\n",
    "    ratio = float(label[0]) / float(label[1])\n",
    "    return ratio\n",
    "class_weight = get_scale_pos_weight(train_data['label'])"
   ]
  },
  {
   "cell_type": "code",
   "execution_count": 100,
   "metadata": {},
   "outputs": [
    {
     "name": "stdout",
     "output_type": "stream",
     "text": [
      "错误类为0.314005\n",
      "recall_score : 0.096\n",
      "f1_score : 0.160\n",
      "auc : 0.525\n",
      "accuracy_score : 0.686 \n",
      "混淆矩阵： [[51349 22125]\n",
      " [ 2449  2337]]\n"
     ]
    }
   ],
   "source": [
    "rf = RandomForestClassifier(n_estimators = 200,max_depth = 6, class_weight='balanced', n_jobs=-1, random_state=2018)\n",
    "\n",
    "rf.fit(X_train, y_train)\n",
    "\n",
    "preds = rf.predict(X_test)\n",
    "\n",
    "# 判断准确率\n",
    "print ('错误类为%f' %((preds!=y_test).sum()/float(y_test.shape[0])))\n",
    "print(\"recall_score : %.3f\" % recall_score(preds, y_test))\n",
    "print(\"f1_score : %.3f\" %  f1_score(preds, y_test))\n",
    "print(\"auc : %.3f\" % roc_auc_score(preds, y_test))\n",
    "print(\"accuracy_score : %.3f \" % accuracy_score(preds, y_test))\n",
    "print (\"混淆矩阵：\",confusion_matrix(y_test, preds))"
   ]
  },
  {
   "cell_type": "code",
   "execution_count": 88,
   "metadata": {},
   "outputs": [
    {
     "data": {
      "text/plain": [
       "array([0, 0, 0, ..., 0, 0, 0], dtype=int64)"
      ]
     },
     "execution_count": 88,
     "metadata": {},
     "output_type": "execute_result"
    }
   ],
   "source": [
    "y_test"
   ]
  },
  {
   "cell_type": "code",
   "execution_count": 92,
   "metadata": {},
   "outputs": [
    {
     "name": "stdout",
     "output_type": "stream",
     "text": [
      "Index(['user_viewed_action_count', 'user_viewed_item_cat_num',\n",
      "       'user_viewed_item_brand_num', 'user_viewed_item_num',\n",
      "       'user_viewed_item_click', 'user_viewed_item_addcart',\n",
      "       'user_viewed_item_buy', 'user_viewed_item_addcat', 'user_addcart_ratio',\n",
      "       'user_click_ratio', 'user_buy_ratio', 'user_addcat_ratio',\n",
      "       'user_buy_ratio2', 'repeat_viewed_count',\n",
      "       'repeat_buyer_same_item_count', 'repeat_buyer_diff_item_count'],\n",
      "      dtype='object')\n",
      "[ 0.08210265  0.17846569  0.00744648  0.23119642  0.06666204  0.00413656\n",
      "  0.13428664  0.01151987  0.00926007  0.03678079  0.0330971   0.01795333\n",
      "  0.00853498  0.04820088  0.01525987  0.11509662]\n"
     ]
    }
   ],
   "source": [
    "print(train_data.drop(['label', 'user_id', 'merchant_id', 'age_range', 'gender'], axis=1).columns)\n",
    "print(rf.feature_importances_)"
   ]
  },
  {
   "cell_type": "markdown",
   "metadata": {},
   "source": [
    "* user_viewed_item_cat_num\n",
    "* user_viewed_item_num\n",
    "* user_viewed_item_buy  \n",
    "* repeat_buyer_diff_item_count\n",
    "\n",
    "\n",
    "这几个特征重要度高"
   ]
  },
  {
   "cell_type": "markdown",
   "metadata": {},
   "source": [
    "#### 网格搜索交叉验证"
   ]
  },
  {
   "cell_type": "code",
   "execution_count": 84,
   "metadata": {},
   "outputs": [
    {
     "data": {
      "text/plain": [
       "0.62443398138819872"
      ]
     },
     "execution_count": 84,
     "metadata": {},
     "output_type": "execute_result"
    }
   ],
   "source": [
    "cv_rf = RandomForestClassifier(n_jobs=-1, class_weight='balanced', random_state=2018)\n",
    "param_grid = {'n_estimators': [100, 200],\n",
    "              'max_depth': [6, 8, 10, 12 ,14, 16]}\n",
    "grid_search = GridSearchCV(cv_rf, param_grid, cv=ss, scoring='roc_auc')\n",
    "grid_search.fit(X_train, y_train)\n",
    "grid_search.score(X_test, y_test)\n"
   ]
  },
  {
   "cell_type": "code",
   "execution_count": 85,
   "metadata": {},
   "outputs": [
    {
     "name": "stdout",
     "output_type": "stream",
     "text": [
      "{'max_depth': 6, 'n_estimators': 200}\n",
      "0.618660155243\n",
      "RandomForestClassifier(bootstrap=True, class_weight='balanced',\n",
      "            criterion='gini', max_depth=6, max_features='auto',\n",
      "            max_leaf_nodes=None, min_impurity_decrease=0.0,\n",
      "            min_impurity_split=None, min_samples_leaf=1,\n",
      "            min_samples_split=2, min_weight_fraction_leaf=0.0,\n",
      "            n_estimators=200, n_jobs=-1, oob_score=False,\n",
      "            random_state=2018, verbose=0, warm_start=False)\n"
     ]
    }
   ],
   "source": [
    "print(grid_search.best_params_)\n",
    "print(grid_search.best_score_)\n",
    "print(grid_search.best_estimator_)\n",
    "print(grid_search.grid_scores_)"
   ]
  },
  {
   "cell_type": "code",
   "execution_count": 96,
   "metadata": {},
   "outputs": [
    {
     "data": {
      "image/png": "[encoded data removed]",
      "text/plain": [
       "<Figure size 432x288 with 1 Axes>"
      ]
     },
     "metadata": {},
     "output_type": "display_data"
    }
   ],
   "source": [
    "from sklearn.model_selection import learning_curve\n",
    "def plot_learning_curve(estimator, title, X, y, ylim=None, cv=None,\n",
    "                        n_jobs=-1, train_sizes=np.linspace(.1, 1.0, 20), scoring='roc_auc'):\n",
    "    plt.figure()\n",
    "    plt.title(title)\n",
    "    if ylim is not None:\n",
    "        plt.ylim(*ylim)\n",
    "    plt.xlabel(\"Training examples\")\n",
    "    plt.ylabel(\"Score\")\n",
    "    train_sizes, train_scores, test_scores = learning_curve(\n",
    "        estimator, X, y, cv=cv, n_jobs=n_jobs, train_sizes=train_sizes, scoring=scoring)\n",
    "    train_scores_mean = np.mean(train_scores, axis=1)\n",
    "    train_scores_std = np.std(train_scores, axis=1)\n",
    "    test_scores_mean = np.mean(test_scores, axis=1)\n",
    "    test_scores_std = np.std(test_scores, axis=1)\n",
    "    plt.grid()\n",
    "\n",
    "    plt.fill_between(train_sizes, train_scores_mean - train_scores_std,\n",
    "                     train_scores_mean + train_scores_std, alpha=0.1,\n",
    "                     color=\"r\")\n",
    "    plt.fill_between(train_sizes, test_scores_mean - test_scores_std,\n",
    "                     test_scores_mean + test_scores_std, alpha=0.1, color=\"g\")\n",
    "    plt.plot(train_sizes, train_scores_mean, 'o-', color=\"r\",\n",
    "             label=\"Training score\")\n",
    "    plt.plot(train_sizes, test_scores_mean, 'o-', color=\"g\",\n",
    "             label=\"Cross-validation score\")\n",
    "\n",
    "    plt.legend(loc=\"best\")\n",
    "    return plt\n",
    "\n",
    "title = 'Learning Curves(random forest)'\n",
    "plot_learning_curve(rf, title, X, y, (0.6, 0.8), cv=ss, n_jobs=-1)\n",
    "plt.show()"
   ]
  }
 ],
 "metadata": {
  "kernelspec": {
   "display_name": "Python 3",
   "language": "python",
   "name": "python3"
  },
  "language_info": {
   "codemirror_mode": {
    "name": "ipython",
    "version": 3
   },
   "file_extension": ".py",
   "mimetype": "text/x-python",
   "name": "python",
   "nbconvert_exporter": "python",
   "pygments_lexer": "ipython3",
   "version": "3.6.5"
  }
 },
 "nbformat": 4,
 "nbformat_minor": 2
}
